{
  "nbformat": 4,
  "nbformat_minor": 0,
  "metadata": {
    "colab": {
      "provenance": [],
      "collapsed_sections": [
        "471PhETcx_oZ",
        "-voPCpNXaDd5",
        "ecrRJyjfyDXA",
        "T17eo2TA2fyg",
        "O5Dhey8k7N3R",
        "c8UubyUR7y0A",
        "Vt7oybrZDMcz",
        "zsff3UX6EBnD",
        "5BCx1bigeSu-",
        "AgZL0MLheaiO",
        "mdzClLHjeiLQ",
        "P_E0hTEigx6q",
        "kAyHA2pdAM2y",
        "dKnm0yc_AOUC",
        "TUE1aLqGAXMT",
        "H9Pxv5W9_OEt",
        "ok5jaYxMI4f6"
      ]
    },
    "kernelspec": {
      "name": "python3",
      "display_name": "Python 3"
    },
    "language_info": {
      "name": "python"
    }
  },
  "cells": [
    {
      "cell_type": "code",
      "source": [
        "#Bibliotecas\n",
        "!git clone https://github.com/FelipeFernandes1/minhas_funcoes\n",
        "from minhas_funcoes.pacote_aed import *\n",
        "from IPython.display import display\n",
        "pd.set_option('display.max_colwidth', None)\n",
        "from sklearn.model_selection import train_test_split\n",
        "from sklearn.linear_model import LogisticRegression\n",
        "from sklearn.metrics import classification_report\n",
        "import warnings\n",
        "warnings.filterwarnings(\"ignore\")\n",
        "from sklearn.metrics import roc_auc_score\n",
        "import statsmodels.api as sm\n",
        "from sklearn.preprocessing import StandardScaler\n",
        "from sklearn.preprocessing import MinMaxScaler\n",
        "from imblearn.under_sampling import RandomUnderSampler\n",
        "from imblearn.over_sampling import RandomOverSampler\n",
        "from sklearn.metrics import confusion_matrix\n",
        "from sklearn.model_selection import cross_val_score, StratifiedKFold"
      ],
      "metadata": {
        "id": "WUr2motl7iBR",
        "colab": {
          "base_uri": "https://localhost:8080/"
        },
        "outputId": "41da2b1f-8810-4755-e71d-759710be7dc3"
      },
      "execution_count": 4,
      "outputs": [
        {
          "output_type": "stream",
          "name": "stdout",
          "text": [
            "Cloning into 'minhas_funcoes'...\n",
            "remote: Enumerating objects: 136, done.\u001b[K\n",
            "remote: Counting objects: 100% (30/30), done.\u001b[K\n",
            "remote: Compressing objects: 100% (25/25), done.\u001b[K\n",
            "remote: Total 136 (delta 12), reused 5 (delta 5), pack-reused 106\u001b[K\n",
            "Receiving objects: 100% (136/136), 41.55 KiB | 10.39 MiB/s, done.\n",
            "Resolving deltas: 100% (47/47), done.\n"
          ]
        }
      ]
    },
    {
      "cell_type": "markdown",
      "source": [
        "# Enquadrando o problema"
      ],
      "metadata": {
        "id": "Upb7jBrUxQV7"
      }
    },
    {
      "cell_type": "markdown",
      "source": [
        "## Contexto"
      ],
      "metadata": {
        "id": "471PhETcx_oZ"
      }
    },
    {
      "cell_type": "markdown",
      "source": [
        "O aplicativo ToComFome é um app de entrega de comida por delivery. Como todo aplicativo de varejo, a empresa se preocupa com o Churn de clientes, ou seja, da perda desse cliente para a concorrência. Para entender o perfil de risco do cliente com maior chance de churn, a área de CRM pediu um projeto para a área de Data Analytics para entender e classificar o cliente com risco de trocar de aplicativo nos próximos meses.\n",
        "\n",
        "Para isso, a área de CRM passou uma amostra de cerca de 10 mil clientes com suas respectivas informações de cadastro e transações nos próximos 4 meses a contar da data de extração usada como referência."
      ],
      "metadata": {
        "id": "dkdup3AuxUZa"
      }
    },
    {
      "cell_type": "markdown",
      "source": [
        "##Proposta de solução"
      ],
      "metadata": {
        "id": "-voPCpNXaDd5"
      }
    },
    {
      "cell_type": "markdown",
      "source": [
        "Criar um modelo preditivo capaz de classificar o usuário antes de apresentar o churn, para que seja possível agir antecipadamente de forma a retê-lo, utilizando a estratégia de cupons de desconto."
      ],
      "metadata": {
        "id": "5n4kU2AAaJ0g"
      }
    },
    {
      "cell_type": "markdown",
      "source": [
        "## Objetivos"
      ],
      "metadata": {
        "id": "ecrRJyjfyDXA"
      }
    },
    {
      "cell_type": "markdown",
      "source": [
        "1 - Criar um modelo de classificação\n",
        "\n",
        "2 - Mensurar o potencial financeiro do modelo proposto"
      ],
      "metadata": {
        "id": "1tdqk1-yyEpn"
      }
    },
    {
      "cell_type": "markdown",
      "source": [
        "## <font color=\"yellow\">Premissas"
      ],
      "metadata": {
        "id": "3UfmKJiUzs4P"
      }
    },
    {
      "cell_type": "markdown",
      "source": [
        "- Trata-se de uma amostra sem viés\n",
        "- O churn é definido pelo fato da falta de transações nos últimos 30 dias, tendo como referência o último dia do período de 4 meses\n",
        "- Ao receber um cupom de desconto, o cliente irá utilizá-lo e isso será o suficiente para retê-lo\n",
        "- Para o próximo período o usuário manterá seu padrão de volume nas compras(Sum_Pedidos_Acumulados)\n",
        "- Variáveis relacionadas ao crédito dos usuários foram adquiridas através de um bureau de crédito\n",
        "- Por haver apenas uma data de extração, não será possível realizar a validação do modelo considerando a ordem cronológica(validação out of time)\n",
        "- O tamanho(pequeno) do conjunto de dados não é o ideal para o aprendizado de máquina\n",
        "- Para realizar o cálculo do potencial financeiro foi necessário assumir alguns valores(no mundo real essa informação poderia ser fornecida pelo time de Marketing):\n",
        "LTV= média da variável \"Sum_Pedidos_Acumulados\"; CAC= 150; Custo cupom= 100\n",
        "- Cálculo para verdadeiro positivo/falso positivo > qtd * (ltv - cac - cupom)\n",
        "- Cálculo para falso negativo > qtd * cac\n",
        "- Cálculo para verdadeiro negativo > qtd * (ltv - cac)\n",
        "- Fórmula resultado > VP + VN + FP - FN"
      ],
      "metadata": {
        "id": "JxOqreUbzvBX"
      }
    },
    {
      "cell_type": "markdown",
      "source": [
        "#Coleta e descrição dos dados"
      ],
      "metadata": {
        "id": "T17eo2TA2fyg"
      }
    },
    {
      "cell_type": "code",
      "source": [
        "#Importando as tabelas\n",
        "df_cliente = pd.read_csv('/content/clientes.csv')\n",
        "df_churn = pd.read_csv('/content/churn.csv')\n",
        "df_dicionario_cliente = pd.read_excel('/content/Metadados.xlsx', sheet_name='clientes')\n",
        "df_dicionario_churn = pd.read_excel('/content/Metadados.xlsx', sheet_name='churn')"
      ],
      "metadata": {
        "id": "ZpcLuF9_2jJP"
      },
      "execution_count": 5,
      "outputs": []
    },
    {
      "cell_type": "code",
      "source": [
        "#Analisando a descrição dos dados da tabela cliente\n",
        "df_dicionario_cliente"
      ],
      "metadata": {
        "colab": {
          "base_uri": "https://localhost:8080/",
          "height": 425
        },
        "id": "pWldEz_n30KU",
        "outputId": "037cf239-e92f-44aa-f41f-15505cc42bc2"
      },
      "execution_count": 6,
      "outputs": [
        {
          "output_type": "execute_result",
          "data": {
            "text/plain": [
              "                  Variavel  \\\n",
              "0                 ClientId   \n",
              "1             DataExtracao   \n",
              "2            Score_Credito   \n",
              "3                   Estado   \n",
              "4                   Gênero   \n",
              "5                    Idade   \n",
              "6            Tempo_Cliente   \n",
              "7   Limite_Credito_Mercado   \n",
              "8           Qte_Categorias   \n",
              "9       Usa_Cartao_Credito   \n",
              "10     Programa_Fidelidade   \n",
              "11  Sum_Pedidos_Acumulados   \n",
              "\n",
              "                                                                                                                             Descricao  \n",
              "0                                                                                                  Identificador de cliente (campo PK)  \n",
              "1                                                                                      Data da extração dessa visão de clientes (foto)  \n",
              "2                                                                                                          Score de Crédito no mercado  \n",
              "3                                                                                                                    Estado do cliente  \n",
              "4                                                                                                                    Genero do cliente  \n",
              "5                                                                                                                     Idade do cliente  \n",
              "6                                                                                 Tempo em meses em que o cliente utiliza o aplicativo  \n",
              "7                                                                                     Limite de Crédito que o cliente tem no mercado.   \n",
              "8   Qte de categorias de produtos (ex: lanches, comida japonesa, doces etc) pedidos nos ultimos 3 meses anteriores à data de extração.  \n",
              "9                                      Flag se cliente cadastrou um cartão de crédito no aplicativo. 1 = Cadastrou e 0 = Não Cadastrou  \n",
              "10                             Flag se cliente participa de um programa de fidelidade no aplicativo. 1 = Participa e 0 = Não Participa  \n",
              "11                                                      Valores gastos no aplicativo nos ultimos 3 meses anteriores à data de extração  "
            ],
            "text/html": [
              "\n",
              "  <div id=\"df-58de485d-2f62-4f47-8c34-cd7a88ff4b57\" class=\"colab-df-container\">\n",
              "    <div>\n",
              "<style scoped>\n",
              "    .dataframe tbody tr th:only-of-type {\n",
              "        vertical-align: middle;\n",
              "    }\n",
              "\n",
              "    .dataframe tbody tr th {\n",
              "        vertical-align: top;\n",
              "    }\n",
              "\n",
              "    .dataframe thead th {\n",
              "        text-align: right;\n",
              "    }\n",
              "</style>\n",
              "<table border=\"1\" class=\"dataframe\">\n",
              "  <thead>\n",
              "    <tr style=\"text-align: right;\">\n",
              "      <th></th>\n",
              "      <th>Variavel</th>\n",
              "      <th>Descricao</th>\n",
              "    </tr>\n",
              "  </thead>\n",
              "  <tbody>\n",
              "    <tr>\n",
              "      <th>0</th>\n",
              "      <td>ClientId</td>\n",
              "      <td>Identificador de cliente (campo PK)</td>\n",
              "    </tr>\n",
              "    <tr>\n",
              "      <th>1</th>\n",
              "      <td>DataExtracao</td>\n",
              "      <td>Data da extração dessa visão de clientes (foto)</td>\n",
              "    </tr>\n",
              "    <tr>\n",
              "      <th>2</th>\n",
              "      <td>Score_Credito</td>\n",
              "      <td>Score de Crédito no mercado</td>\n",
              "    </tr>\n",
              "    <tr>\n",
              "      <th>3</th>\n",
              "      <td>Estado</td>\n",
              "      <td>Estado do cliente</td>\n",
              "    </tr>\n",
              "    <tr>\n",
              "      <th>4</th>\n",
              "      <td>Gênero</td>\n",
              "      <td>Genero do cliente</td>\n",
              "    </tr>\n",
              "    <tr>\n",
              "      <th>5</th>\n",
              "      <td>Idade</td>\n",
              "      <td>Idade do cliente</td>\n",
              "    </tr>\n",
              "    <tr>\n",
              "      <th>6</th>\n",
              "      <td>Tempo_Cliente</td>\n",
              "      <td>Tempo em meses em que o cliente utiliza o aplicativo</td>\n",
              "    </tr>\n",
              "    <tr>\n",
              "      <th>7</th>\n",
              "      <td>Limite_Credito_Mercado</td>\n",
              "      <td>Limite de Crédito que o cliente tem no mercado.</td>\n",
              "    </tr>\n",
              "    <tr>\n",
              "      <th>8</th>\n",
              "      <td>Qte_Categorias</td>\n",
              "      <td>Qte de categorias de produtos (ex: lanches, comida japonesa, doces etc) pedidos nos ultimos 3 meses anteriores à data de extração.</td>\n",
              "    </tr>\n",
              "    <tr>\n",
              "      <th>9</th>\n",
              "      <td>Usa_Cartao_Credito</td>\n",
              "      <td>Flag se cliente cadastrou um cartão de crédito no aplicativo. 1 = Cadastrou e 0 = Não Cadastrou</td>\n",
              "    </tr>\n",
              "    <tr>\n",
              "      <th>10</th>\n",
              "      <td>Programa_Fidelidade</td>\n",
              "      <td>Flag se cliente participa de um programa de fidelidade no aplicativo. 1 = Participa e 0 = Não Participa</td>\n",
              "    </tr>\n",
              "    <tr>\n",
              "      <th>11</th>\n",
              "      <td>Sum_Pedidos_Acumulados</td>\n",
              "      <td>Valores gastos no aplicativo nos ultimos 3 meses anteriores à data de extração</td>\n",
              "    </tr>\n",
              "  </tbody>\n",
              "</table>\n",
              "</div>\n",
              "    <div class=\"colab-df-buttons\">\n",
              "\n",
              "  <div class=\"colab-df-container\">\n",
              "    <button class=\"colab-df-convert\" onclick=\"convertToInteractive('df-58de485d-2f62-4f47-8c34-cd7a88ff4b57')\"\n",
              "            title=\"Convert this dataframe to an interactive table.\"\n",
              "            style=\"display:none;\">\n",
              "\n",
              "  <svg xmlns=\"http://www.w3.org/2000/svg\" height=\"24px\" viewBox=\"0 -960 960 960\">\n",
              "    <path d=\"M120-120v-720h720v720H120Zm60-500h600v-160H180v160Zm220 220h160v-160H400v160Zm0 220h160v-160H400v160ZM180-400h160v-160H180v160Zm440 0h160v-160H620v160ZM180-180h160v-160H180v160Zm440 0h160v-160H620v160Z\"/>\n",
              "  </svg>\n",
              "    </button>\n",
              "\n",
              "  <style>\n",
              "    .colab-df-container {\n",
              "      display:flex;\n",
              "      gap: 12px;\n",
              "    }\n",
              "\n",
              "    .colab-df-convert {\n",
              "      background-color: #E8F0FE;\n",
              "      border: none;\n",
              "      border-radius: 50%;\n",
              "      cursor: pointer;\n",
              "      display: none;\n",
              "      fill: #1967D2;\n",
              "      height: 32px;\n",
              "      padding: 0 0 0 0;\n",
              "      width: 32px;\n",
              "    }\n",
              "\n",
              "    .colab-df-convert:hover {\n",
              "      background-color: #E2EBFA;\n",
              "      box-shadow: 0px 1px 2px rgba(60, 64, 67, 0.3), 0px 1px 3px 1px rgba(60, 64, 67, 0.15);\n",
              "      fill: #174EA6;\n",
              "    }\n",
              "\n",
              "    .colab-df-buttons div {\n",
              "      margin-bottom: 4px;\n",
              "    }\n",
              "\n",
              "    [theme=dark] .colab-df-convert {\n",
              "      background-color: #3B4455;\n",
              "      fill: #D2E3FC;\n",
              "    }\n",
              "\n",
              "    [theme=dark] .colab-df-convert:hover {\n",
              "      background-color: #434B5C;\n",
              "      box-shadow: 0px 1px 3px 1px rgba(0, 0, 0, 0.15);\n",
              "      filter: drop-shadow(0px 1px 2px rgba(0, 0, 0, 0.3));\n",
              "      fill: #FFFFFF;\n",
              "    }\n",
              "  </style>\n",
              "\n",
              "    <script>\n",
              "      const buttonEl =\n",
              "        document.querySelector('#df-58de485d-2f62-4f47-8c34-cd7a88ff4b57 button.colab-df-convert');\n",
              "      buttonEl.style.display =\n",
              "        google.colab.kernel.accessAllowed ? 'block' : 'none';\n",
              "\n",
              "      async function convertToInteractive(key) {\n",
              "        const element = document.querySelector('#df-58de485d-2f62-4f47-8c34-cd7a88ff4b57');\n",
              "        const dataTable =\n",
              "          await google.colab.kernel.invokeFunction('convertToInteractive',\n",
              "                                                    [key], {});\n",
              "        if (!dataTable) return;\n",
              "\n",
              "        const docLinkHtml = 'Like what you see? Visit the ' +\n",
              "          '<a target=\"_blank\" href=https://colab.research.google.com/notebooks/data_table.ipynb>data table notebook</a>'\n",
              "          + ' to learn more about interactive tables.';\n",
              "        element.innerHTML = '';\n",
              "        dataTable['output_type'] = 'display_data';\n",
              "        await google.colab.output.renderOutput(dataTable, element);\n",
              "        const docLink = document.createElement('div');\n",
              "        docLink.innerHTML = docLinkHtml;\n",
              "        element.appendChild(docLink);\n",
              "      }\n",
              "    </script>\n",
              "  </div>\n",
              "\n",
              "\n",
              "<div id=\"df-aa909d0f-a7e4-4b78-9efc-66779ee81ad7\">\n",
              "  <button class=\"colab-df-quickchart\" onclick=\"quickchart('df-aa909d0f-a7e4-4b78-9efc-66779ee81ad7')\"\n",
              "            title=\"Suggest charts\"\n",
              "            style=\"display:none;\">\n",
              "\n",
              "<svg xmlns=\"http://www.w3.org/2000/svg\" height=\"24px\"viewBox=\"0 0 24 24\"\n",
              "     width=\"24px\">\n",
              "    <g>\n",
              "        <path d=\"M19 3H5c-1.1 0-2 .9-2 2v14c0 1.1.9 2 2 2h14c1.1 0 2-.9 2-2V5c0-1.1-.9-2-2-2zM9 17H7v-7h2v7zm4 0h-2V7h2v10zm4 0h-2v-4h2v4z\"/>\n",
              "    </g>\n",
              "</svg>\n",
              "  </button>\n",
              "\n",
              "<style>\n",
              "  .colab-df-quickchart {\n",
              "      --bg-color: #E8F0FE;\n",
              "      --fill-color: #1967D2;\n",
              "      --hover-bg-color: #E2EBFA;\n",
              "      --hover-fill-color: #174EA6;\n",
              "      --disabled-fill-color: #AAA;\n",
              "      --disabled-bg-color: #DDD;\n",
              "  }\n",
              "\n",
              "  [theme=dark] .colab-df-quickchart {\n",
              "      --bg-color: #3B4455;\n",
              "      --fill-color: #D2E3FC;\n",
              "      --hover-bg-color: #434B5C;\n",
              "      --hover-fill-color: #FFFFFF;\n",
              "      --disabled-bg-color: #3B4455;\n",
              "      --disabled-fill-color: #666;\n",
              "  }\n",
              "\n",
              "  .colab-df-quickchart {\n",
              "    background-color: var(--bg-color);\n",
              "    border: none;\n",
              "    border-radius: 50%;\n",
              "    cursor: pointer;\n",
              "    display: none;\n",
              "    fill: var(--fill-color);\n",
              "    height: 32px;\n",
              "    padding: 0;\n",
              "    width: 32px;\n",
              "  }\n",
              "\n",
              "  .colab-df-quickchart:hover {\n",
              "    background-color: var(--hover-bg-color);\n",
              "    box-shadow: 0 1px 2px rgba(60, 64, 67, 0.3), 0 1px 3px 1px rgba(60, 64, 67, 0.15);\n",
              "    fill: var(--button-hover-fill-color);\n",
              "  }\n",
              "\n",
              "  .colab-df-quickchart-complete:disabled,\n",
              "  .colab-df-quickchart-complete:disabled:hover {\n",
              "    background-color: var(--disabled-bg-color);\n",
              "    fill: var(--disabled-fill-color);\n",
              "    box-shadow: none;\n",
              "  }\n",
              "\n",
              "  .colab-df-spinner {\n",
              "    border: 2px solid var(--fill-color);\n",
              "    border-color: transparent;\n",
              "    border-bottom-color: var(--fill-color);\n",
              "    animation:\n",
              "      spin 1s steps(1) infinite;\n",
              "  }\n",
              "\n",
              "  @keyframes spin {\n",
              "    0% {\n",
              "      border-color: transparent;\n",
              "      border-bottom-color: var(--fill-color);\n",
              "      border-left-color: var(--fill-color);\n",
              "    }\n",
              "    20% {\n",
              "      border-color: transparent;\n",
              "      border-left-color: var(--fill-color);\n",
              "      border-top-color: var(--fill-color);\n",
              "    }\n",
              "    30% {\n",
              "      border-color: transparent;\n",
              "      border-left-color: var(--fill-color);\n",
              "      border-top-color: var(--fill-color);\n",
              "      border-right-color: var(--fill-color);\n",
              "    }\n",
              "    40% {\n",
              "      border-color: transparent;\n",
              "      border-right-color: var(--fill-color);\n",
              "      border-top-color: var(--fill-color);\n",
              "    }\n",
              "    60% {\n",
              "      border-color: transparent;\n",
              "      border-right-color: var(--fill-color);\n",
              "    }\n",
              "    80% {\n",
              "      border-color: transparent;\n",
              "      border-right-color: var(--fill-color);\n",
              "      border-bottom-color: var(--fill-color);\n",
              "    }\n",
              "    90% {\n",
              "      border-color: transparent;\n",
              "      border-bottom-color: var(--fill-color);\n",
              "    }\n",
              "  }\n",
              "</style>\n",
              "\n",
              "  <script>\n",
              "    async function quickchart(key) {\n",
              "      const quickchartButtonEl =\n",
              "        document.querySelector('#' + key + ' button');\n",
              "      quickchartButtonEl.disabled = true;  // To prevent multiple clicks.\n",
              "      quickchartButtonEl.classList.add('colab-df-spinner');\n",
              "      try {\n",
              "        const charts = await google.colab.kernel.invokeFunction(\n",
              "            'suggestCharts', [key], {});\n",
              "      } catch (error) {\n",
              "        console.error('Error during call to suggestCharts:', error);\n",
              "      }\n",
              "      quickchartButtonEl.classList.remove('colab-df-spinner');\n",
              "      quickchartButtonEl.classList.add('colab-df-quickchart-complete');\n",
              "    }\n",
              "    (() => {\n",
              "      let quickchartButtonEl =\n",
              "        document.querySelector('#df-aa909d0f-a7e4-4b78-9efc-66779ee81ad7 button');\n",
              "      quickchartButtonEl.style.display =\n",
              "        google.colab.kernel.accessAllowed ? 'block' : 'none';\n",
              "    })();\n",
              "  </script>\n",
              "</div>\n",
              "\n",
              "  <div id=\"id_4da3b71c-a9d7-43f8-ac6f-0e4313db15b1\">\n",
              "    <style>\n",
              "      .colab-df-generate {\n",
              "        background-color: #E8F0FE;\n",
              "        border: none;\n",
              "        border-radius: 50%;\n",
              "        cursor: pointer;\n",
              "        display: none;\n",
              "        fill: #1967D2;\n",
              "        height: 32px;\n",
              "        padding: 0 0 0 0;\n",
              "        width: 32px;\n",
              "      }\n",
              "\n",
              "      .colab-df-generate:hover {\n",
              "        background-color: #E2EBFA;\n",
              "        box-shadow: 0px 1px 2px rgba(60, 64, 67, 0.3), 0px 1px 3px 1px rgba(60, 64, 67, 0.15);\n",
              "        fill: #174EA6;\n",
              "      }\n",
              "\n",
              "      [theme=dark] .colab-df-generate {\n",
              "        background-color: #3B4455;\n",
              "        fill: #D2E3FC;\n",
              "      }\n",
              "\n",
              "      [theme=dark] .colab-df-generate:hover {\n",
              "        background-color: #434B5C;\n",
              "        box-shadow: 0px 1px 3px 1px rgba(0, 0, 0, 0.15);\n",
              "        filter: drop-shadow(0px 1px 2px rgba(0, 0, 0, 0.3));\n",
              "        fill: #FFFFFF;\n",
              "      }\n",
              "    </style>\n",
              "    <button class=\"colab-df-generate\" onclick=\"generateWithVariable('df_dicionario_cliente')\"\n",
              "            title=\"Generate code using this dataframe.\"\n",
              "            style=\"display:none;\">\n",
              "\n",
              "  <svg xmlns=\"http://www.w3.org/2000/svg\" height=\"24px\"viewBox=\"0 0 24 24\"\n",
              "       width=\"24px\">\n",
              "    <path d=\"M7,19H8.4L18.45,9,17,7.55,7,17.6ZM5,21V16.75L18.45,3.32a2,2,0,0,1,2.83,0l1.4,1.43a1.91,1.91,0,0,1,.58,1.4,1.91,1.91,0,0,1-.58,1.4L9.25,21ZM18.45,9,17,7.55Zm-12,3A5.31,5.31,0,0,0,4.9,8.1,5.31,5.31,0,0,0,1,6.5,5.31,5.31,0,0,0,4.9,4.9,5.31,5.31,0,0,0,6.5,1,5.31,5.31,0,0,0,8.1,4.9,5.31,5.31,0,0,0,12,6.5,5.46,5.46,0,0,0,6.5,12Z\"/>\n",
              "  </svg>\n",
              "    </button>\n",
              "    <script>\n",
              "      (() => {\n",
              "      const buttonEl =\n",
              "        document.querySelector('#id_4da3b71c-a9d7-43f8-ac6f-0e4313db15b1 button.colab-df-generate');\n",
              "      buttonEl.style.display =\n",
              "        google.colab.kernel.accessAllowed ? 'block' : 'none';\n",
              "\n",
              "      buttonEl.onclick = () => {\n",
              "        google.colab.notebook.generateWithVariable('df_dicionario_cliente');\n",
              "      }\n",
              "      })();\n",
              "    </script>\n",
              "  </div>\n",
              "\n",
              "    </div>\n",
              "  </div>\n"
            ]
          },
          "metadata": {},
          "execution_count": 6
        }
      ]
    },
    {
      "cell_type": "code",
      "source": [
        "#Analisando a descrição dos dados da tabela churn\n",
        "df_dicionario_churn"
      ],
      "metadata": {
        "colab": {
          "base_uri": "https://localhost:8080/",
          "height": 125
        },
        "id": "nNGgxqKd36N_",
        "outputId": "9e5f3ad0-7c7a-4b17-ae7f-ba7d5fa32de5"
      },
      "execution_count": 7,
      "outputs": [
        {
          "output_type": "execute_result",
          "data": {
            "text/plain": [
              "              Variavel  \\\n",
              "0             ClientId   \n",
              "1  DataUltimaTransacao   \n",
              "\n",
              "                                                  Descricao  \n",
              "0                       Identificador de cliente (campo PK)  \n",
              "1  A data da última transação realizada por cada cliente  "
            ],
            "text/html": [
              "\n",
              "  <div id=\"df-fde28b40-ec96-4413-b210-28c11481047b\" class=\"colab-df-container\">\n",
              "    <div>\n",
              "<style scoped>\n",
              "    .dataframe tbody tr th:only-of-type {\n",
              "        vertical-align: middle;\n",
              "    }\n",
              "\n",
              "    .dataframe tbody tr th {\n",
              "        vertical-align: top;\n",
              "    }\n",
              "\n",
              "    .dataframe thead th {\n",
              "        text-align: right;\n",
              "    }\n",
              "</style>\n",
              "<table border=\"1\" class=\"dataframe\">\n",
              "  <thead>\n",
              "    <tr style=\"text-align: right;\">\n",
              "      <th></th>\n",
              "      <th>Variavel</th>\n",
              "      <th>Descricao</th>\n",
              "    </tr>\n",
              "  </thead>\n",
              "  <tbody>\n",
              "    <tr>\n",
              "      <th>0</th>\n",
              "      <td>ClientId</td>\n",
              "      <td>Identificador de cliente (campo PK)</td>\n",
              "    </tr>\n",
              "    <tr>\n",
              "      <th>1</th>\n",
              "      <td>DataUltimaTransacao</td>\n",
              "      <td>A data da última transação realizada por cada cliente</td>\n",
              "    </tr>\n",
              "  </tbody>\n",
              "</table>\n",
              "</div>\n",
              "    <div class=\"colab-df-buttons\">\n",
              "\n",
              "  <div class=\"colab-df-container\">\n",
              "    <button class=\"colab-df-convert\" onclick=\"convertToInteractive('df-fde28b40-ec96-4413-b210-28c11481047b')\"\n",
              "            title=\"Convert this dataframe to an interactive table.\"\n",
              "            style=\"display:none;\">\n",
              "\n",
              "  <svg xmlns=\"http://www.w3.org/2000/svg\" height=\"24px\" viewBox=\"0 -960 960 960\">\n",
              "    <path d=\"M120-120v-720h720v720H120Zm60-500h600v-160H180v160Zm220 220h160v-160H400v160Zm0 220h160v-160H400v160ZM180-400h160v-160H180v160Zm440 0h160v-160H620v160ZM180-180h160v-160H180v160Zm440 0h160v-160H620v160Z\"/>\n",
              "  </svg>\n",
              "    </button>\n",
              "\n",
              "  <style>\n",
              "    .colab-df-container {\n",
              "      display:flex;\n",
              "      gap: 12px;\n",
              "    }\n",
              "\n",
              "    .colab-df-convert {\n",
              "      background-color: #E8F0FE;\n",
              "      border: none;\n",
              "      border-radius: 50%;\n",
              "      cursor: pointer;\n",
              "      display: none;\n",
              "      fill: #1967D2;\n",
              "      height: 32px;\n",
              "      padding: 0 0 0 0;\n",
              "      width: 32px;\n",
              "    }\n",
              "\n",
              "    .colab-df-convert:hover {\n",
              "      background-color: #E2EBFA;\n",
              "      box-shadow: 0px 1px 2px rgba(60, 64, 67, 0.3), 0px 1px 3px 1px rgba(60, 64, 67, 0.15);\n",
              "      fill: #174EA6;\n",
              "    }\n",
              "\n",
              "    .colab-df-buttons div {\n",
              "      margin-bottom: 4px;\n",
              "    }\n",
              "\n",
              "    [theme=dark] .colab-df-convert {\n",
              "      background-color: #3B4455;\n",
              "      fill: #D2E3FC;\n",
              "    }\n",
              "\n",
              "    [theme=dark] .colab-df-convert:hover {\n",
              "      background-color: #434B5C;\n",
              "      box-shadow: 0px 1px 3px 1px rgba(0, 0, 0, 0.15);\n",
              "      filter: drop-shadow(0px 1px 2px rgba(0, 0, 0, 0.3));\n",
              "      fill: #FFFFFF;\n",
              "    }\n",
              "  </style>\n",
              "\n",
              "    <script>\n",
              "      const buttonEl =\n",
              "        document.querySelector('#df-fde28b40-ec96-4413-b210-28c11481047b button.colab-df-convert');\n",
              "      buttonEl.style.display =\n",
              "        google.colab.kernel.accessAllowed ? 'block' : 'none';\n",
              "\n",
              "      async function convertToInteractive(key) {\n",
              "        const element = document.querySelector('#df-fde28b40-ec96-4413-b210-28c11481047b');\n",
              "        const dataTable =\n",
              "          await google.colab.kernel.invokeFunction('convertToInteractive',\n",
              "                                                    [key], {});\n",
              "        if (!dataTable) return;\n",
              "\n",
              "        const docLinkHtml = 'Like what you see? Visit the ' +\n",
              "          '<a target=\"_blank\" href=https://colab.research.google.com/notebooks/data_table.ipynb>data table notebook</a>'\n",
              "          + ' to learn more about interactive tables.';\n",
              "        element.innerHTML = '';\n",
              "        dataTable['output_type'] = 'display_data';\n",
              "        await google.colab.output.renderOutput(dataTable, element);\n",
              "        const docLink = document.createElement('div');\n",
              "        docLink.innerHTML = docLinkHtml;\n",
              "        element.appendChild(docLink);\n",
              "      }\n",
              "    </script>\n",
              "  </div>\n",
              "\n",
              "\n",
              "<div id=\"df-a708edf1-c2a3-4dff-8ef2-e88a7706a581\">\n",
              "  <button class=\"colab-df-quickchart\" onclick=\"quickchart('df-a708edf1-c2a3-4dff-8ef2-e88a7706a581')\"\n",
              "            title=\"Suggest charts\"\n",
              "            style=\"display:none;\">\n",
              "\n",
              "<svg xmlns=\"http://www.w3.org/2000/svg\" height=\"24px\"viewBox=\"0 0 24 24\"\n",
              "     width=\"24px\">\n",
              "    <g>\n",
              "        <path d=\"M19 3H5c-1.1 0-2 .9-2 2v14c0 1.1.9 2 2 2h14c1.1 0 2-.9 2-2V5c0-1.1-.9-2-2-2zM9 17H7v-7h2v7zm4 0h-2V7h2v10zm4 0h-2v-4h2v4z\"/>\n",
              "    </g>\n",
              "</svg>\n",
              "  </button>\n",
              "\n",
              "<style>\n",
              "  .colab-df-quickchart {\n",
              "      --bg-color: #E8F0FE;\n",
              "      --fill-color: #1967D2;\n",
              "      --hover-bg-color: #E2EBFA;\n",
              "      --hover-fill-color: #174EA6;\n",
              "      --disabled-fill-color: #AAA;\n",
              "      --disabled-bg-color: #DDD;\n",
              "  }\n",
              "\n",
              "  [theme=dark] .colab-df-quickchart {\n",
              "      --bg-color: #3B4455;\n",
              "      --fill-color: #D2E3FC;\n",
              "      --hover-bg-color: #434B5C;\n",
              "      --hover-fill-color: #FFFFFF;\n",
              "      --disabled-bg-color: #3B4455;\n",
              "      --disabled-fill-color: #666;\n",
              "  }\n",
              "\n",
              "  .colab-df-quickchart {\n",
              "    background-color: var(--bg-color);\n",
              "    border: none;\n",
              "    border-radius: 50%;\n",
              "    cursor: pointer;\n",
              "    display: none;\n",
              "    fill: var(--fill-color);\n",
              "    height: 32px;\n",
              "    padding: 0;\n",
              "    width: 32px;\n",
              "  }\n",
              "\n",
              "  .colab-df-quickchart:hover {\n",
              "    background-color: var(--hover-bg-color);\n",
              "    box-shadow: 0 1px 2px rgba(60, 64, 67, 0.3), 0 1px 3px 1px rgba(60, 64, 67, 0.15);\n",
              "    fill: var(--button-hover-fill-color);\n",
              "  }\n",
              "\n",
              "  .colab-df-quickchart-complete:disabled,\n",
              "  .colab-df-quickchart-complete:disabled:hover {\n",
              "    background-color: var(--disabled-bg-color);\n",
              "    fill: var(--disabled-fill-color);\n",
              "    box-shadow: none;\n",
              "  }\n",
              "\n",
              "  .colab-df-spinner {\n",
              "    border: 2px solid var(--fill-color);\n",
              "    border-color: transparent;\n",
              "    border-bottom-color: var(--fill-color);\n",
              "    animation:\n",
              "      spin 1s steps(1) infinite;\n",
              "  }\n",
              "\n",
              "  @keyframes spin {\n",
              "    0% {\n",
              "      border-color: transparent;\n",
              "      border-bottom-color: var(--fill-color);\n",
              "      border-left-color: var(--fill-color);\n",
              "    }\n",
              "    20% {\n",
              "      border-color: transparent;\n",
              "      border-left-color: var(--fill-color);\n",
              "      border-top-color: var(--fill-color);\n",
              "    }\n",
              "    30% {\n",
              "      border-color: transparent;\n",
              "      border-left-color: var(--fill-color);\n",
              "      border-top-color: var(--fill-color);\n",
              "      border-right-color: var(--fill-color);\n",
              "    }\n",
              "    40% {\n",
              "      border-color: transparent;\n",
              "      border-right-color: var(--fill-color);\n",
              "      border-top-color: var(--fill-color);\n",
              "    }\n",
              "    60% {\n",
              "      border-color: transparent;\n",
              "      border-right-color: var(--fill-color);\n",
              "    }\n",
              "    80% {\n",
              "      border-color: transparent;\n",
              "      border-right-color: var(--fill-color);\n",
              "      border-bottom-color: var(--fill-color);\n",
              "    }\n",
              "    90% {\n",
              "      border-color: transparent;\n",
              "      border-bottom-color: var(--fill-color);\n",
              "    }\n",
              "  }\n",
              "</style>\n",
              "\n",
              "  <script>\n",
              "    async function quickchart(key) {\n",
              "      const quickchartButtonEl =\n",
              "        document.querySelector('#' + key + ' button');\n",
              "      quickchartButtonEl.disabled = true;  // To prevent multiple clicks.\n",
              "      quickchartButtonEl.classList.add('colab-df-spinner');\n",
              "      try {\n",
              "        const charts = await google.colab.kernel.invokeFunction(\n",
              "            'suggestCharts', [key], {});\n",
              "      } catch (error) {\n",
              "        console.error('Error during call to suggestCharts:', error);\n",
              "      }\n",
              "      quickchartButtonEl.classList.remove('colab-df-spinner');\n",
              "      quickchartButtonEl.classList.add('colab-df-quickchart-complete');\n",
              "    }\n",
              "    (() => {\n",
              "      let quickchartButtonEl =\n",
              "        document.querySelector('#df-a708edf1-c2a3-4dff-8ef2-e88a7706a581 button');\n",
              "      quickchartButtonEl.style.display =\n",
              "        google.colab.kernel.accessAllowed ? 'block' : 'none';\n",
              "    })();\n",
              "  </script>\n",
              "</div>\n",
              "\n",
              "  <div id=\"id_2eccc5d2-a685-4c09-8efd-3c1c6479557b\">\n",
              "    <style>\n",
              "      .colab-df-generate {\n",
              "        background-color: #E8F0FE;\n",
              "        border: none;\n",
              "        border-radius: 50%;\n",
              "        cursor: pointer;\n",
              "        display: none;\n",
              "        fill: #1967D2;\n",
              "        height: 32px;\n",
              "        padding: 0 0 0 0;\n",
              "        width: 32px;\n",
              "      }\n",
              "\n",
              "      .colab-df-generate:hover {\n",
              "        background-color: #E2EBFA;\n",
              "        box-shadow: 0px 1px 2px rgba(60, 64, 67, 0.3), 0px 1px 3px 1px rgba(60, 64, 67, 0.15);\n",
              "        fill: #174EA6;\n",
              "      }\n",
              "\n",
              "      [theme=dark] .colab-df-generate {\n",
              "        background-color: #3B4455;\n",
              "        fill: #D2E3FC;\n",
              "      }\n",
              "\n",
              "      [theme=dark] .colab-df-generate:hover {\n",
              "        background-color: #434B5C;\n",
              "        box-shadow: 0px 1px 3px 1px rgba(0, 0, 0, 0.15);\n",
              "        filter: drop-shadow(0px 1px 2px rgba(0, 0, 0, 0.3));\n",
              "        fill: #FFFFFF;\n",
              "      }\n",
              "    </style>\n",
              "    <button class=\"colab-df-generate\" onclick=\"generateWithVariable('df_dicionario_churn')\"\n",
              "            title=\"Generate code using this dataframe.\"\n",
              "            style=\"display:none;\">\n",
              "\n",
              "  <svg xmlns=\"http://www.w3.org/2000/svg\" height=\"24px\"viewBox=\"0 0 24 24\"\n",
              "       width=\"24px\">\n",
              "    <path d=\"M7,19H8.4L18.45,9,17,7.55,7,17.6ZM5,21V16.75L18.45,3.32a2,2,0,0,1,2.83,0l1.4,1.43a1.91,1.91,0,0,1,.58,1.4,1.91,1.91,0,0,1-.58,1.4L9.25,21ZM18.45,9,17,7.55Zm-12,3A5.31,5.31,0,0,0,4.9,8.1,5.31,5.31,0,0,0,1,6.5,5.31,5.31,0,0,0,4.9,4.9,5.31,5.31,0,0,0,6.5,1,5.31,5.31,0,0,0,8.1,4.9,5.31,5.31,0,0,0,12,6.5,5.46,5.46,0,0,0,6.5,12Z\"/>\n",
              "  </svg>\n",
              "    </button>\n",
              "    <script>\n",
              "      (() => {\n",
              "      const buttonEl =\n",
              "        document.querySelector('#id_2eccc5d2-a685-4c09-8efd-3c1c6479557b button.colab-df-generate');\n",
              "      buttonEl.style.display =\n",
              "        google.colab.kernel.accessAllowed ? 'block' : 'none';\n",
              "\n",
              "      buttonEl.onclick = () => {\n",
              "        google.colab.notebook.generateWithVariable('df_dicionario_churn');\n",
              "      }\n",
              "      })();\n",
              "    </script>\n",
              "  </div>\n",
              "\n",
              "    </div>\n",
              "  </div>\n"
            ]
          },
          "metadata": {},
          "execution_count": 7
        }
      ]
    },
    {
      "cell_type": "code",
      "source": [
        "#Verificando se o período de fato corresponde a 4 meses\n",
        "df_churn['DataUltimaTransacao'] = pd.to_datetime(df_churn['DataUltimaTransacao'])\n",
        "df_cliente['DataExtracao'] = pd.to_datetime(df_cliente['DataExtracao'])\n",
        "\n",
        "df_churn['DataUltimaTransacao'].max() - df_cliente['DataExtracao'][0]"
      ],
      "metadata": {
        "colab": {
          "base_uri": "https://localhost:8080/"
        },
        "id": "YGY6-Vhh4MAY",
        "outputId": "4287e003-5ed1-491a-fda6-20b5608cf42b"
      },
      "execution_count": 8,
      "outputs": [
        {
          "output_type": "execute_result",
          "data": {
            "text/plain": [
              "Timedelta('122 days 00:00:00')"
            ]
          },
          "metadata": {},
          "execution_count": 8
        }
      ]
    },
    {
      "cell_type": "code",
      "source": [
        "#Unindo as tabelas\n",
        "df = pd.merge(df_cliente, df_churn[['ClientId', 'DataUltimaTransacao']], on='ClientId', how='left')"
      ],
      "metadata": {
        "id": "H2LjBK3s4VEQ"
      },
      "execution_count": 9,
      "outputs": []
    },
    {
      "cell_type": "code",
      "source": [
        "#Criando a coluna Churn=1\n",
        "df['Dias'] =  (df['DataUltimaTransacao'].max() - df['DataUltimaTransacao']).dt.days\n",
        "df['Churn'] = 0\n",
        "df.loc[df['Dias'] > 30, 'Churn'] = 1"
      ],
      "metadata": {
        "id": "WwtCYWom4ZjP"
      },
      "execution_count": 10,
      "outputs": []
    },
    {
      "cell_type": "code",
      "source": [
        "#Excluindo as colunas desnecessarias(utilizadas somente para classificar o churn)\n",
        "df = df.drop(['DataExtracao','DataUltimaTransacao','Dias'], axis=1)"
      ],
      "metadata": {
        "id": "aXAUZv-qQVvz"
      },
      "execution_count": 11,
      "outputs": []
    },
    {
      "cell_type": "code",
      "source": [
        "#Analisando a estrutura\n",
        "df.info()"
      ],
      "metadata": {
        "colab": {
          "base_uri": "https://localhost:8080/"
        },
        "id": "GHreaoKD4qiH",
        "outputId": "f94abc04-b15e-4ab2-9a1d-7794f702c806"
      },
      "execution_count": 12,
      "outputs": [
        {
          "output_type": "stream",
          "name": "stdout",
          "text": [
            "<class 'pandas.core.frame.DataFrame'>\n",
            "Int64Index: 10000 entries, 0 to 9999\n",
            "Data columns (total 12 columns):\n",
            " #   Column                  Non-Null Count  Dtype  \n",
            "---  ------                  --------------  -----  \n",
            " 0   ClientId                10000 non-null  int64  \n",
            " 1   Score_Credito           10000 non-null  int64  \n",
            " 2   Estado                  10000 non-null  object \n",
            " 3   Gênero                  10000 non-null  object \n",
            " 4   Idade                   10000 non-null  int64  \n",
            " 5   Tempo_Cliente           10000 non-null  int64  \n",
            " 6   Limite_Credito_Mercado  10000 non-null  float64\n",
            " 7   Qte_Categorias          10000 non-null  int64  \n",
            " 8   Usa_Cartao_Credito      10000 non-null  int64  \n",
            " 9   Programa_Fidelidade     10000 non-null  int64  \n",
            " 10  Sum_Pedidos_Acumulados  10000 non-null  float64\n",
            " 11  Churn                   10000 non-null  int64  \n",
            "dtypes: float64(2), int64(8), object(2)\n",
            "memory usage: 1015.6+ KB\n"
          ]
        }
      ]
    },
    {
      "cell_type": "code",
      "source": [
        "#Analisando as primeiras linhas\n",
        "df.head()"
      ],
      "metadata": {
        "colab": {
          "base_uri": "https://localhost:8080/",
          "height": 313
        },
        "id": "ZK4rqJ4H4flg",
        "outputId": "3cf2a069-ba77-4baa-83d4-72b8bc780b67"
      },
      "execution_count": 13,
      "outputs": [
        {
          "output_type": "execute_result",
          "data": {
            "text/plain": [
              "   ClientId  Score_Credito          Estado    Gênero  Idade  Tempo_Cliente  \\\n",
              "0    345568            619       São Paulo  Feminino     42              2   \n",
              "1    345569            608  Rio de Janeiro  Feminino     41              1   \n",
              "2    345570            502       São Paulo  Feminino     42              8   \n",
              "3    345571            699       São Paulo  Feminino     39              1   \n",
              "4    345572            850  Rio de Janeiro  Feminino     43              2   \n",
              "\n",
              "   Limite_Credito_Mercado  Qte_Categorias  Usa_Cartao_Credito  \\\n",
              "0                  0.0000               1                   1   \n",
              "1                838.0786               1                   0   \n",
              "2               1596.6080               3                   1   \n",
              "3                  0.0000               2                   0   \n",
              "4               1255.1082               1                   1   \n",
              "\n",
              "   Programa_Fidelidade  Sum_Pedidos_Acumulados  Churn  \n",
              "0                    1              422.287000      1  \n",
              "1                    1              468.927417      0  \n",
              "2                    0              474.714875      1  \n",
              "3                    0              390.944292      0  \n",
              "4                    1              329.517083      0  "
            ],
            "text/html": [
              "\n",
              "  <div id=\"df-1afa0ff6-bc56-49c3-9ddf-8cdf653bf133\" class=\"colab-df-container\">\n",
              "    <div>\n",
              "<style scoped>\n",
              "    .dataframe tbody tr th:only-of-type {\n",
              "        vertical-align: middle;\n",
              "    }\n",
              "\n",
              "    .dataframe tbody tr th {\n",
              "        vertical-align: top;\n",
              "    }\n",
              "\n",
              "    .dataframe thead th {\n",
              "        text-align: right;\n",
              "    }\n",
              "</style>\n",
              "<table border=\"1\" class=\"dataframe\">\n",
              "  <thead>\n",
              "    <tr style=\"text-align: right;\">\n",
              "      <th></th>\n",
              "      <th>ClientId</th>\n",
              "      <th>Score_Credito</th>\n",
              "      <th>Estado</th>\n",
              "      <th>Gênero</th>\n",
              "      <th>Idade</th>\n",
              "      <th>Tempo_Cliente</th>\n",
              "      <th>Limite_Credito_Mercado</th>\n",
              "      <th>Qte_Categorias</th>\n",
              "      <th>Usa_Cartao_Credito</th>\n",
              "      <th>Programa_Fidelidade</th>\n",
              "      <th>Sum_Pedidos_Acumulados</th>\n",
              "      <th>Churn</th>\n",
              "    </tr>\n",
              "  </thead>\n",
              "  <tbody>\n",
              "    <tr>\n",
              "      <th>0</th>\n",
              "      <td>345568</td>\n",
              "      <td>619</td>\n",
              "      <td>São Paulo</td>\n",
              "      <td>Feminino</td>\n",
              "      <td>42</td>\n",
              "      <td>2</td>\n",
              "      <td>0.0000</td>\n",
              "      <td>1</td>\n",
              "      <td>1</td>\n",
              "      <td>1</td>\n",
              "      <td>422.287000</td>\n",
              "      <td>1</td>\n",
              "    </tr>\n",
              "    <tr>\n",
              "      <th>1</th>\n",
              "      <td>345569</td>\n",
              "      <td>608</td>\n",
              "      <td>Rio de Janeiro</td>\n",
              "      <td>Feminino</td>\n",
              "      <td>41</td>\n",
              "      <td>1</td>\n",
              "      <td>838.0786</td>\n",
              "      <td>1</td>\n",
              "      <td>0</td>\n",
              "      <td>1</td>\n",
              "      <td>468.927417</td>\n",
              "      <td>0</td>\n",
              "    </tr>\n",
              "    <tr>\n",
              "      <th>2</th>\n",
              "      <td>345570</td>\n",
              "      <td>502</td>\n",
              "      <td>São Paulo</td>\n",
              "      <td>Feminino</td>\n",
              "      <td>42</td>\n",
              "      <td>8</td>\n",
              "      <td>1596.6080</td>\n",
              "      <td>3</td>\n",
              "      <td>1</td>\n",
              "      <td>0</td>\n",
              "      <td>474.714875</td>\n",
              "      <td>1</td>\n",
              "    </tr>\n",
              "    <tr>\n",
              "      <th>3</th>\n",
              "      <td>345571</td>\n",
              "      <td>699</td>\n",
              "      <td>São Paulo</td>\n",
              "      <td>Feminino</td>\n",
              "      <td>39</td>\n",
              "      <td>1</td>\n",
              "      <td>0.0000</td>\n",
              "      <td>2</td>\n",
              "      <td>0</td>\n",
              "      <td>0</td>\n",
              "      <td>390.944292</td>\n",
              "      <td>0</td>\n",
              "    </tr>\n",
              "    <tr>\n",
              "      <th>4</th>\n",
              "      <td>345572</td>\n",
              "      <td>850</td>\n",
              "      <td>Rio de Janeiro</td>\n",
              "      <td>Feminino</td>\n",
              "      <td>43</td>\n",
              "      <td>2</td>\n",
              "      <td>1255.1082</td>\n",
              "      <td>1</td>\n",
              "      <td>1</td>\n",
              "      <td>1</td>\n",
              "      <td>329.517083</td>\n",
              "      <td>0</td>\n",
              "    </tr>\n",
              "  </tbody>\n",
              "</table>\n",
              "</div>\n",
              "    <div class=\"colab-df-buttons\">\n",
              "\n",
              "  <div class=\"colab-df-container\">\n",
              "    <button class=\"colab-df-convert\" onclick=\"convertToInteractive('df-1afa0ff6-bc56-49c3-9ddf-8cdf653bf133')\"\n",
              "            title=\"Convert this dataframe to an interactive table.\"\n",
              "            style=\"display:none;\">\n",
              "\n",
              "  <svg xmlns=\"http://www.w3.org/2000/svg\" height=\"24px\" viewBox=\"0 -960 960 960\">\n",
              "    <path d=\"M120-120v-720h720v720H120Zm60-500h600v-160H180v160Zm220 220h160v-160H400v160Zm0 220h160v-160H400v160ZM180-400h160v-160H180v160Zm440 0h160v-160H620v160ZM180-180h160v-160H180v160Zm440 0h160v-160H620v160Z\"/>\n",
              "  </svg>\n",
              "    </button>\n",
              "\n",
              "  <style>\n",
              "    .colab-df-container {\n",
              "      display:flex;\n",
              "      gap: 12px;\n",
              "    }\n",
              "\n",
              "    .colab-df-convert {\n",
              "      background-color: #E8F0FE;\n",
              "      border: none;\n",
              "      border-radius: 50%;\n",
              "      cursor: pointer;\n",
              "      display: none;\n",
              "      fill: #1967D2;\n",
              "      height: 32px;\n",
              "      padding: 0 0 0 0;\n",
              "      width: 32px;\n",
              "    }\n",
              "\n",
              "    .colab-df-convert:hover {\n",
              "      background-color: #E2EBFA;\n",
              "      box-shadow: 0px 1px 2px rgba(60, 64, 67, 0.3), 0px 1px 3px 1px rgba(60, 64, 67, 0.15);\n",
              "      fill: #174EA6;\n",
              "    }\n",
              "\n",
              "    .colab-df-buttons div {\n",
              "      margin-bottom: 4px;\n",
              "    }\n",
              "\n",
              "    [theme=dark] .colab-df-convert {\n",
              "      background-color: #3B4455;\n",
              "      fill: #D2E3FC;\n",
              "    }\n",
              "\n",
              "    [theme=dark] .colab-df-convert:hover {\n",
              "      background-color: #434B5C;\n",
              "      box-shadow: 0px 1px 3px 1px rgba(0, 0, 0, 0.15);\n",
              "      filter: drop-shadow(0px 1px 2px rgba(0, 0, 0, 0.3));\n",
              "      fill: #FFFFFF;\n",
              "    }\n",
              "  </style>\n",
              "\n",
              "    <script>\n",
              "      const buttonEl =\n",
              "        document.querySelector('#df-1afa0ff6-bc56-49c3-9ddf-8cdf653bf133 button.colab-df-convert');\n",
              "      buttonEl.style.display =\n",
              "        google.colab.kernel.accessAllowed ? 'block' : 'none';\n",
              "\n",
              "      async function convertToInteractive(key) {\n",
              "        const element = document.querySelector('#df-1afa0ff6-bc56-49c3-9ddf-8cdf653bf133');\n",
              "        const dataTable =\n",
              "          await google.colab.kernel.invokeFunction('convertToInteractive',\n",
              "                                                    [key], {});\n",
              "        if (!dataTable) return;\n",
              "\n",
              "        const docLinkHtml = 'Like what you see? Visit the ' +\n",
              "          '<a target=\"_blank\" href=https://colab.research.google.com/notebooks/data_table.ipynb>data table notebook</a>'\n",
              "          + ' to learn more about interactive tables.';\n",
              "        element.innerHTML = '';\n",
              "        dataTable['output_type'] = 'display_data';\n",
              "        await google.colab.output.renderOutput(dataTable, element);\n",
              "        const docLink = document.createElement('div');\n",
              "        docLink.innerHTML = docLinkHtml;\n",
              "        element.appendChild(docLink);\n",
              "      }\n",
              "    </script>\n",
              "  </div>\n",
              "\n",
              "\n",
              "<div id=\"df-b77d1a11-ad82-47f9-82ca-f14d839eb0c6\">\n",
              "  <button class=\"colab-df-quickchart\" onclick=\"quickchart('df-b77d1a11-ad82-47f9-82ca-f14d839eb0c6')\"\n",
              "            title=\"Suggest charts\"\n",
              "            style=\"display:none;\">\n",
              "\n",
              "<svg xmlns=\"http://www.w3.org/2000/svg\" height=\"24px\"viewBox=\"0 0 24 24\"\n",
              "     width=\"24px\">\n",
              "    <g>\n",
              "        <path d=\"M19 3H5c-1.1 0-2 .9-2 2v14c0 1.1.9 2 2 2h14c1.1 0 2-.9 2-2V5c0-1.1-.9-2-2-2zM9 17H7v-7h2v7zm4 0h-2V7h2v10zm4 0h-2v-4h2v4z\"/>\n",
              "    </g>\n",
              "</svg>\n",
              "  </button>\n",
              "\n",
              "<style>\n",
              "  .colab-df-quickchart {\n",
              "      --bg-color: #E8F0FE;\n",
              "      --fill-color: #1967D2;\n",
              "      --hover-bg-color: #E2EBFA;\n",
              "      --hover-fill-color: #174EA6;\n",
              "      --disabled-fill-color: #AAA;\n",
              "      --disabled-bg-color: #DDD;\n",
              "  }\n",
              "\n",
              "  [theme=dark] .colab-df-quickchart {\n",
              "      --bg-color: #3B4455;\n",
              "      --fill-color: #D2E3FC;\n",
              "      --hover-bg-color: #434B5C;\n",
              "      --hover-fill-color: #FFFFFF;\n",
              "      --disabled-bg-color: #3B4455;\n",
              "      --disabled-fill-color: #666;\n",
              "  }\n",
              "\n",
              "  .colab-df-quickchart {\n",
              "    background-color: var(--bg-color);\n",
              "    border: none;\n",
              "    border-radius: 50%;\n",
              "    cursor: pointer;\n",
              "    display: none;\n",
              "    fill: var(--fill-color);\n",
              "    height: 32px;\n",
              "    padding: 0;\n",
              "    width: 32px;\n",
              "  }\n",
              "\n",
              "  .colab-df-quickchart:hover {\n",
              "    background-color: var(--hover-bg-color);\n",
              "    box-shadow: 0 1px 2px rgba(60, 64, 67, 0.3), 0 1px 3px 1px rgba(60, 64, 67, 0.15);\n",
              "    fill: var(--button-hover-fill-color);\n",
              "  }\n",
              "\n",
              "  .colab-df-quickchart-complete:disabled,\n",
              "  .colab-df-quickchart-complete:disabled:hover {\n",
              "    background-color: var(--disabled-bg-color);\n",
              "    fill: var(--disabled-fill-color);\n",
              "    box-shadow: none;\n",
              "  }\n",
              "\n",
              "  .colab-df-spinner {\n",
              "    border: 2px solid var(--fill-color);\n",
              "    border-color: transparent;\n",
              "    border-bottom-color: var(--fill-color);\n",
              "    animation:\n",
              "      spin 1s steps(1) infinite;\n",
              "  }\n",
              "\n",
              "  @keyframes spin {\n",
              "    0% {\n",
              "      border-color: transparent;\n",
              "      border-bottom-color: var(--fill-color);\n",
              "      border-left-color: var(--fill-color);\n",
              "    }\n",
              "    20% {\n",
              "      border-color: transparent;\n",
              "      border-left-color: var(--fill-color);\n",
              "      border-top-color: var(--fill-color);\n",
              "    }\n",
              "    30% {\n",
              "      border-color: transparent;\n",
              "      border-left-color: var(--fill-color);\n",
              "      border-top-color: var(--fill-color);\n",
              "      border-right-color: var(--fill-color);\n",
              "    }\n",
              "    40% {\n",
              "      border-color: transparent;\n",
              "      border-right-color: var(--fill-color);\n",
              "      border-top-color: var(--fill-color);\n",
              "    }\n",
              "    60% {\n",
              "      border-color: transparent;\n",
              "      border-right-color: var(--fill-color);\n",
              "    }\n",
              "    80% {\n",
              "      border-color: transparent;\n",
              "      border-right-color: var(--fill-color);\n",
              "      border-bottom-color: var(--fill-color);\n",
              "    }\n",
              "    90% {\n",
              "      border-color: transparent;\n",
              "      border-bottom-color: var(--fill-color);\n",
              "    }\n",
              "  }\n",
              "</style>\n",
              "\n",
              "  <script>\n",
              "    async function quickchart(key) {\n",
              "      const quickchartButtonEl =\n",
              "        document.querySelector('#' + key + ' button');\n",
              "      quickchartButtonEl.disabled = true;  // To prevent multiple clicks.\n",
              "      quickchartButtonEl.classList.add('colab-df-spinner');\n",
              "      try {\n",
              "        const charts = await google.colab.kernel.invokeFunction(\n",
              "            'suggestCharts', [key], {});\n",
              "      } catch (error) {\n",
              "        console.error('Error during call to suggestCharts:', error);\n",
              "      }\n",
              "      quickchartButtonEl.classList.remove('colab-df-spinner');\n",
              "      quickchartButtonEl.classList.add('colab-df-quickchart-complete');\n",
              "    }\n",
              "    (() => {\n",
              "      let quickchartButtonEl =\n",
              "        document.querySelector('#df-b77d1a11-ad82-47f9-82ca-f14d839eb0c6 button');\n",
              "      quickchartButtonEl.style.display =\n",
              "        google.colab.kernel.accessAllowed ? 'block' : 'none';\n",
              "    })();\n",
              "  </script>\n",
              "</div>\n",
              "\n",
              "    </div>\n",
              "  </div>\n"
            ]
          },
          "metadata": {},
          "execution_count": 13
        }
      ]
    },
    {
      "cell_type": "code",
      "source": [
        "#Verificação de valores inconsistentes(variáveis quantitativas)\n",
        "df.describe()"
      ],
      "metadata": {
        "colab": {
          "base_uri": "https://localhost:8080/",
          "height": 320
        },
        "id": "8p6LMQxB4haH",
        "outputId": "2e0fc84a-6645-4bc0-a5a5-dd2ca10e04c3"
      },
      "execution_count": 14,
      "outputs": [
        {
          "output_type": "execute_result",
          "data": {
            "text/plain": [
              "           ClientId  Score_Credito         Idade  Tempo_Cliente  \\\n",
              "count   10000.00000   10000.000000  10000.000000   10000.000000   \n",
              "mean   350567.50000     650.528800     38.921800       5.012800   \n",
              "std      2886.89568      96.653299     10.487806       2.892174   \n",
              "min    345568.00000     350.000000     18.000000       0.000000   \n",
              "25%    348067.75000     584.000000     32.000000       3.000000   \n",
              "50%    350567.50000     652.000000     37.000000       5.000000   \n",
              "75%    353067.25000     718.000000     44.000000       7.000000   \n",
              "max    355567.00000     850.000000     92.000000      10.000000   \n",
              "\n",
              "       Limite_Credito_Mercado  Qte_Categorias  Usa_Cartao_Credito  \\\n",
              "count            10000.000000    10000.000000         10000.00000   \n",
              "mean               764.858893        1.530200             0.70550   \n",
              "std                623.974052        0.581654             0.45584   \n",
              "min                  0.000000        1.000000             0.00000   \n",
              "25%                  0.000000        1.000000             0.00000   \n",
              "50%                971.985400        1.000000             1.00000   \n",
              "75%               1276.442400        2.000000             1.00000   \n",
              "max               2508.980900        4.000000             1.00000   \n",
              "\n",
              "       Programa_Fidelidade  Sum_Pedidos_Acumulados         Churn  \n",
              "count         10000.000000            10000.000000  10000.000000  \n",
              "mean              0.515100              417.042666      0.201300  \n",
              "std               0.499797              239.627053      0.400992  \n",
              "min               0.000000                0.048250      0.000000  \n",
              "25%               0.000000              212.508792      0.000000  \n",
              "50%               1.000000              417.474646      0.000000  \n",
              "75%               1.000000              622.451031      0.000000  \n",
              "max               1.000000              833.302000      1.000000  "
            ],
            "text/html": [
              "\n",
              "  <div id=\"df-e85208bd-fe43-4137-adae-8b99ac000389\" class=\"colab-df-container\">\n",
              "    <div>\n",
              "<style scoped>\n",
              "    .dataframe tbody tr th:only-of-type {\n",
              "        vertical-align: middle;\n",
              "    }\n",
              "\n",
              "    .dataframe tbody tr th {\n",
              "        vertical-align: top;\n",
              "    }\n",
              "\n",
              "    .dataframe thead th {\n",
              "        text-align: right;\n",
              "    }\n",
              "</style>\n",
              "<table border=\"1\" class=\"dataframe\">\n",
              "  <thead>\n",
              "    <tr style=\"text-align: right;\">\n",
              "      <th></th>\n",
              "      <th>ClientId</th>\n",
              "      <th>Score_Credito</th>\n",
              "      <th>Idade</th>\n",
              "      <th>Tempo_Cliente</th>\n",
              "      <th>Limite_Credito_Mercado</th>\n",
              "      <th>Qte_Categorias</th>\n",
              "      <th>Usa_Cartao_Credito</th>\n",
              "      <th>Programa_Fidelidade</th>\n",
              "      <th>Sum_Pedidos_Acumulados</th>\n",
              "      <th>Churn</th>\n",
              "    </tr>\n",
              "  </thead>\n",
              "  <tbody>\n",
              "    <tr>\n",
              "      <th>count</th>\n",
              "      <td>10000.00000</td>\n",
              "      <td>10000.000000</td>\n",
              "      <td>10000.000000</td>\n",
              "      <td>10000.000000</td>\n",
              "      <td>10000.000000</td>\n",
              "      <td>10000.000000</td>\n",
              "      <td>10000.00000</td>\n",
              "      <td>10000.000000</td>\n",
              "      <td>10000.000000</td>\n",
              "      <td>10000.000000</td>\n",
              "    </tr>\n",
              "    <tr>\n",
              "      <th>mean</th>\n",
              "      <td>350567.50000</td>\n",
              "      <td>650.528800</td>\n",
              "      <td>38.921800</td>\n",
              "      <td>5.012800</td>\n",
              "      <td>764.858893</td>\n",
              "      <td>1.530200</td>\n",
              "      <td>0.70550</td>\n",
              "      <td>0.515100</td>\n",
              "      <td>417.042666</td>\n",
              "      <td>0.201300</td>\n",
              "    </tr>\n",
              "    <tr>\n",
              "      <th>std</th>\n",
              "      <td>2886.89568</td>\n",
              "      <td>96.653299</td>\n",
              "      <td>10.487806</td>\n",
              "      <td>2.892174</td>\n",
              "      <td>623.974052</td>\n",
              "      <td>0.581654</td>\n",
              "      <td>0.45584</td>\n",
              "      <td>0.499797</td>\n",
              "      <td>239.627053</td>\n",
              "      <td>0.400992</td>\n",
              "    </tr>\n",
              "    <tr>\n",
              "      <th>min</th>\n",
              "      <td>345568.00000</td>\n",
              "      <td>350.000000</td>\n",
              "      <td>18.000000</td>\n",
              "      <td>0.000000</td>\n",
              "      <td>0.000000</td>\n",
              "      <td>1.000000</td>\n",
              "      <td>0.00000</td>\n",
              "      <td>0.000000</td>\n",
              "      <td>0.048250</td>\n",
              "      <td>0.000000</td>\n",
              "    </tr>\n",
              "    <tr>\n",
              "      <th>25%</th>\n",
              "      <td>348067.75000</td>\n",
              "      <td>584.000000</td>\n",
              "      <td>32.000000</td>\n",
              "      <td>3.000000</td>\n",
              "      <td>0.000000</td>\n",
              "      <td>1.000000</td>\n",
              "      <td>0.00000</td>\n",
              "      <td>0.000000</td>\n",
              "      <td>212.508792</td>\n",
              "      <td>0.000000</td>\n",
              "    </tr>\n",
              "    <tr>\n",
              "      <th>50%</th>\n",
              "      <td>350567.50000</td>\n",
              "      <td>652.000000</td>\n",
              "      <td>37.000000</td>\n",
              "      <td>5.000000</td>\n",
              "      <td>971.985400</td>\n",
              "      <td>1.000000</td>\n",
              "      <td>1.00000</td>\n",
              "      <td>1.000000</td>\n",
              "      <td>417.474646</td>\n",
              "      <td>0.000000</td>\n",
              "    </tr>\n",
              "    <tr>\n",
              "      <th>75%</th>\n",
              "      <td>353067.25000</td>\n",
              "      <td>718.000000</td>\n",
              "      <td>44.000000</td>\n",
              "      <td>7.000000</td>\n",
              "      <td>1276.442400</td>\n",
              "      <td>2.000000</td>\n",
              "      <td>1.00000</td>\n",
              "      <td>1.000000</td>\n",
              "      <td>622.451031</td>\n",
              "      <td>0.000000</td>\n",
              "    </tr>\n",
              "    <tr>\n",
              "      <th>max</th>\n",
              "      <td>355567.00000</td>\n",
              "      <td>850.000000</td>\n",
              "      <td>92.000000</td>\n",
              "      <td>10.000000</td>\n",
              "      <td>2508.980900</td>\n",
              "      <td>4.000000</td>\n",
              "      <td>1.00000</td>\n",
              "      <td>1.000000</td>\n",
              "      <td>833.302000</td>\n",
              "      <td>1.000000</td>\n",
              "    </tr>\n",
              "  </tbody>\n",
              "</table>\n",
              "</div>\n",
              "    <div class=\"colab-df-buttons\">\n",
              "\n",
              "  <div class=\"colab-df-container\">\n",
              "    <button class=\"colab-df-convert\" onclick=\"convertToInteractive('df-e85208bd-fe43-4137-adae-8b99ac000389')\"\n",
              "            title=\"Convert this dataframe to an interactive table.\"\n",
              "            style=\"display:none;\">\n",
              "\n",
              "  <svg xmlns=\"http://www.w3.org/2000/svg\" height=\"24px\" viewBox=\"0 -960 960 960\">\n",
              "    <path d=\"M120-120v-720h720v720H120Zm60-500h600v-160H180v160Zm220 220h160v-160H400v160Zm0 220h160v-160H400v160ZM180-400h160v-160H180v160Zm440 0h160v-160H620v160ZM180-180h160v-160H180v160Zm440 0h160v-160H620v160Z\"/>\n",
              "  </svg>\n",
              "    </button>\n",
              "\n",
              "  <style>\n",
              "    .colab-df-container {\n",
              "      display:flex;\n",
              "      gap: 12px;\n",
              "    }\n",
              "\n",
              "    .colab-df-convert {\n",
              "      background-color: #E8F0FE;\n",
              "      border: none;\n",
              "      border-radius: 50%;\n",
              "      cursor: pointer;\n",
              "      display: none;\n",
              "      fill: #1967D2;\n",
              "      height: 32px;\n",
              "      padding: 0 0 0 0;\n",
              "      width: 32px;\n",
              "    }\n",
              "\n",
              "    .colab-df-convert:hover {\n",
              "      background-color: #E2EBFA;\n",
              "      box-shadow: 0px 1px 2px rgba(60, 64, 67, 0.3), 0px 1px 3px 1px rgba(60, 64, 67, 0.15);\n",
              "      fill: #174EA6;\n",
              "    }\n",
              "\n",
              "    .colab-df-buttons div {\n",
              "      margin-bottom: 4px;\n",
              "    }\n",
              "\n",
              "    [theme=dark] .colab-df-convert {\n",
              "      background-color: #3B4455;\n",
              "      fill: #D2E3FC;\n",
              "    }\n",
              "\n",
              "    [theme=dark] .colab-df-convert:hover {\n",
              "      background-color: #434B5C;\n",
              "      box-shadow: 0px 1px 3px 1px rgba(0, 0, 0, 0.15);\n",
              "      filter: drop-shadow(0px 1px 2px rgba(0, 0, 0, 0.3));\n",
              "      fill: #FFFFFF;\n",
              "    }\n",
              "  </style>\n",
              "\n",
              "    <script>\n",
              "      const buttonEl =\n",
              "        document.querySelector('#df-e85208bd-fe43-4137-adae-8b99ac000389 button.colab-df-convert');\n",
              "      buttonEl.style.display =\n",
              "        google.colab.kernel.accessAllowed ? 'block' : 'none';\n",
              "\n",
              "      async function convertToInteractive(key) {\n",
              "        const element = document.querySelector('#df-e85208bd-fe43-4137-adae-8b99ac000389');\n",
              "        const dataTable =\n",
              "          await google.colab.kernel.invokeFunction('convertToInteractive',\n",
              "                                                    [key], {});\n",
              "        if (!dataTable) return;\n",
              "\n",
              "        const docLinkHtml = 'Like what you see? Visit the ' +\n",
              "          '<a target=\"_blank\" href=https://colab.research.google.com/notebooks/data_table.ipynb>data table notebook</a>'\n",
              "          + ' to learn more about interactive tables.';\n",
              "        element.innerHTML = '';\n",
              "        dataTable['output_type'] = 'display_data';\n",
              "        await google.colab.output.renderOutput(dataTable, element);\n",
              "        const docLink = document.createElement('div');\n",
              "        docLink.innerHTML = docLinkHtml;\n",
              "        element.appendChild(docLink);\n",
              "      }\n",
              "    </script>\n",
              "  </div>\n",
              "\n",
              "\n",
              "<div id=\"df-78f04ac6-d114-4459-9940-3b0016411247\">\n",
              "  <button class=\"colab-df-quickchart\" onclick=\"quickchart('df-78f04ac6-d114-4459-9940-3b0016411247')\"\n",
              "            title=\"Suggest charts\"\n",
              "            style=\"display:none;\">\n",
              "\n",
              "<svg xmlns=\"http://www.w3.org/2000/svg\" height=\"24px\"viewBox=\"0 0 24 24\"\n",
              "     width=\"24px\">\n",
              "    <g>\n",
              "        <path d=\"M19 3H5c-1.1 0-2 .9-2 2v14c0 1.1.9 2 2 2h14c1.1 0 2-.9 2-2V5c0-1.1-.9-2-2-2zM9 17H7v-7h2v7zm4 0h-2V7h2v10zm4 0h-2v-4h2v4z\"/>\n",
              "    </g>\n",
              "</svg>\n",
              "  </button>\n",
              "\n",
              "<style>\n",
              "  .colab-df-quickchart {\n",
              "      --bg-color: #E8F0FE;\n",
              "      --fill-color: #1967D2;\n",
              "      --hover-bg-color: #E2EBFA;\n",
              "      --hover-fill-color: #174EA6;\n",
              "      --disabled-fill-color: #AAA;\n",
              "      --disabled-bg-color: #DDD;\n",
              "  }\n",
              "\n",
              "  [theme=dark] .colab-df-quickchart {\n",
              "      --bg-color: #3B4455;\n",
              "      --fill-color: #D2E3FC;\n",
              "      --hover-bg-color: #434B5C;\n",
              "      --hover-fill-color: #FFFFFF;\n",
              "      --disabled-bg-color: #3B4455;\n",
              "      --disabled-fill-color: #666;\n",
              "  }\n",
              "\n",
              "  .colab-df-quickchart {\n",
              "    background-color: var(--bg-color);\n",
              "    border: none;\n",
              "    border-radius: 50%;\n",
              "    cursor: pointer;\n",
              "    display: none;\n",
              "    fill: var(--fill-color);\n",
              "    height: 32px;\n",
              "    padding: 0;\n",
              "    width: 32px;\n",
              "  }\n",
              "\n",
              "  .colab-df-quickchart:hover {\n",
              "    background-color: var(--hover-bg-color);\n",
              "    box-shadow: 0 1px 2px rgba(60, 64, 67, 0.3), 0 1px 3px 1px rgba(60, 64, 67, 0.15);\n",
              "    fill: var(--button-hover-fill-color);\n",
              "  }\n",
              "\n",
              "  .colab-df-quickchart-complete:disabled,\n",
              "  .colab-df-quickchart-complete:disabled:hover {\n",
              "    background-color: var(--disabled-bg-color);\n",
              "    fill: var(--disabled-fill-color);\n",
              "    box-shadow: none;\n",
              "  }\n",
              "\n",
              "  .colab-df-spinner {\n",
              "    border: 2px solid var(--fill-color);\n",
              "    border-color: transparent;\n",
              "    border-bottom-color: var(--fill-color);\n",
              "    animation:\n",
              "      spin 1s steps(1) infinite;\n",
              "  }\n",
              "\n",
              "  @keyframes spin {\n",
              "    0% {\n",
              "      border-color: transparent;\n",
              "      border-bottom-color: var(--fill-color);\n",
              "      border-left-color: var(--fill-color);\n",
              "    }\n",
              "    20% {\n",
              "      border-color: transparent;\n",
              "      border-left-color: var(--fill-color);\n",
              "      border-top-color: var(--fill-color);\n",
              "    }\n",
              "    30% {\n",
              "      border-color: transparent;\n",
              "      border-left-color: var(--fill-color);\n",
              "      border-top-color: var(--fill-color);\n",
              "      border-right-color: var(--fill-color);\n",
              "    }\n",
              "    40% {\n",
              "      border-color: transparent;\n",
              "      border-right-color: var(--fill-color);\n",
              "      border-top-color: var(--fill-color);\n",
              "    }\n",
              "    60% {\n",
              "      border-color: transparent;\n",
              "      border-right-color: var(--fill-color);\n",
              "    }\n",
              "    80% {\n",
              "      border-color: transparent;\n",
              "      border-right-color: var(--fill-color);\n",
              "      border-bottom-color: var(--fill-color);\n",
              "    }\n",
              "    90% {\n",
              "      border-color: transparent;\n",
              "      border-bottom-color: var(--fill-color);\n",
              "    }\n",
              "  }\n",
              "</style>\n",
              "\n",
              "  <script>\n",
              "    async function quickchart(key) {\n",
              "      const quickchartButtonEl =\n",
              "        document.querySelector('#' + key + ' button');\n",
              "      quickchartButtonEl.disabled = true;  // To prevent multiple clicks.\n",
              "      quickchartButtonEl.classList.add('colab-df-spinner');\n",
              "      try {\n",
              "        const charts = await google.colab.kernel.invokeFunction(\n",
              "            'suggestCharts', [key], {});\n",
              "      } catch (error) {\n",
              "        console.error('Error during call to suggestCharts:', error);\n",
              "      }\n",
              "      quickchartButtonEl.classList.remove('colab-df-spinner');\n",
              "      quickchartButtonEl.classList.add('colab-df-quickchart-complete');\n",
              "    }\n",
              "    (() => {\n",
              "      let quickchartButtonEl =\n",
              "        document.querySelector('#df-78f04ac6-d114-4459-9940-3b0016411247 button');\n",
              "      quickchartButtonEl.style.display =\n",
              "        google.colab.kernel.accessAllowed ? 'block' : 'none';\n",
              "    })();\n",
              "  </script>\n",
              "</div>\n",
              "\n",
              "    </div>\n",
              "  </div>\n"
            ]
          },
          "metadata": {},
          "execution_count": 14
        }
      ]
    },
    {
      "cell_type": "code",
      "source": [
        "#Verificação de valores inconsistentes(variáveis qualitativas)\n",
        "df['Estado'].value_counts(),df['Gênero'].value_counts()"
      ],
      "metadata": {
        "colab": {
          "base_uri": "https://localhost:8080/"
        },
        "id": "JuYwGoEx5r3p",
        "outputId": "083ab743-bdba-46d0-c15a-3b1b2c148ed8"
      },
      "execution_count": 15,
      "outputs": [
        {
          "output_type": "execute_result",
          "data": {
            "text/plain": [
              "(São Paulo         5014\n",
              " Minas Gerais      2509\n",
              " Rio de Janeiro    2477\n",
              " Name: Estado, dtype: int64,\n",
              " Masculino    5457\n",
              " Feminino     4543\n",
              " Name: Gênero, dtype: int64)"
            ]
          },
          "metadata": {},
          "execution_count": 15
        }
      ]
    },
    {
      "cell_type": "code",
      "source": [
        "#Verificação de registros duplicados\n",
        "df[df.duplicated(keep=False)]"
      ],
      "metadata": {
        "colab": {
          "base_uri": "https://localhost:8080/",
          "height": 73
        },
        "id": "hcn6FP9_5xfg",
        "outputId": "6d0a4029-dace-4376-b384-2941211cf2d6"
      },
      "execution_count": 16,
      "outputs": [
        {
          "output_type": "execute_result",
          "data": {
            "text/plain": [
              "Empty DataFrame\n",
              "Columns: [ClientId, Score_Credito, Estado, Gênero, Idade, Tempo_Cliente, Limite_Credito_Mercado, Qte_Categorias, Usa_Cartao_Credito, Programa_Fidelidade, Sum_Pedidos_Acumulados, Churn]\n",
              "Index: []"
            ],
            "text/html": [
              "\n",
              "  <div id=\"df-235395cf-a8b2-45e1-bd0a-bfe4475f9710\" class=\"colab-df-container\">\n",
              "    <div>\n",
              "<style scoped>\n",
              "    .dataframe tbody tr th:only-of-type {\n",
              "        vertical-align: middle;\n",
              "    }\n",
              "\n",
              "    .dataframe tbody tr th {\n",
              "        vertical-align: top;\n",
              "    }\n",
              "\n",
              "    .dataframe thead th {\n",
              "        text-align: right;\n",
              "    }\n",
              "</style>\n",
              "<table border=\"1\" class=\"dataframe\">\n",
              "  <thead>\n",
              "    <tr style=\"text-align: right;\">\n",
              "      <th></th>\n",
              "      <th>ClientId</th>\n",
              "      <th>Score_Credito</th>\n",
              "      <th>Estado</th>\n",
              "      <th>Gênero</th>\n",
              "      <th>Idade</th>\n",
              "      <th>Tempo_Cliente</th>\n",
              "      <th>Limite_Credito_Mercado</th>\n",
              "      <th>Qte_Categorias</th>\n",
              "      <th>Usa_Cartao_Credito</th>\n",
              "      <th>Programa_Fidelidade</th>\n",
              "      <th>Sum_Pedidos_Acumulados</th>\n",
              "      <th>Churn</th>\n",
              "    </tr>\n",
              "  </thead>\n",
              "  <tbody>\n",
              "  </tbody>\n",
              "</table>\n",
              "</div>\n",
              "    <div class=\"colab-df-buttons\">\n",
              "\n",
              "  <div class=\"colab-df-container\">\n",
              "    <button class=\"colab-df-convert\" onclick=\"convertToInteractive('df-235395cf-a8b2-45e1-bd0a-bfe4475f9710')\"\n",
              "            title=\"Convert this dataframe to an interactive table.\"\n",
              "            style=\"display:none;\">\n",
              "\n",
              "  <svg xmlns=\"http://www.w3.org/2000/svg\" height=\"24px\" viewBox=\"0 -960 960 960\">\n",
              "    <path d=\"M120-120v-720h720v720H120Zm60-500h600v-160H180v160Zm220 220h160v-160H400v160Zm0 220h160v-160H400v160ZM180-400h160v-160H180v160Zm440 0h160v-160H620v160ZM180-180h160v-160H180v160Zm440 0h160v-160H620v160Z\"/>\n",
              "  </svg>\n",
              "    </button>\n",
              "\n",
              "  <style>\n",
              "    .colab-df-container {\n",
              "      display:flex;\n",
              "      gap: 12px;\n",
              "    }\n",
              "\n",
              "    .colab-df-convert {\n",
              "      background-color: #E8F0FE;\n",
              "      border: none;\n",
              "      border-radius: 50%;\n",
              "      cursor: pointer;\n",
              "      display: none;\n",
              "      fill: #1967D2;\n",
              "      height: 32px;\n",
              "      padding: 0 0 0 0;\n",
              "      width: 32px;\n",
              "    }\n",
              "\n",
              "    .colab-df-convert:hover {\n",
              "      background-color: #E2EBFA;\n",
              "      box-shadow: 0px 1px 2px rgba(60, 64, 67, 0.3), 0px 1px 3px 1px rgba(60, 64, 67, 0.15);\n",
              "      fill: #174EA6;\n",
              "    }\n",
              "\n",
              "    .colab-df-buttons div {\n",
              "      margin-bottom: 4px;\n",
              "    }\n",
              "\n",
              "    [theme=dark] .colab-df-convert {\n",
              "      background-color: #3B4455;\n",
              "      fill: #D2E3FC;\n",
              "    }\n",
              "\n",
              "    [theme=dark] .colab-df-convert:hover {\n",
              "      background-color: #434B5C;\n",
              "      box-shadow: 0px 1px 3px 1px rgba(0, 0, 0, 0.15);\n",
              "      filter: drop-shadow(0px 1px 2px rgba(0, 0, 0, 0.3));\n",
              "      fill: #FFFFFF;\n",
              "    }\n",
              "  </style>\n",
              "\n",
              "    <script>\n",
              "      const buttonEl =\n",
              "        document.querySelector('#df-235395cf-a8b2-45e1-bd0a-bfe4475f9710 button.colab-df-convert');\n",
              "      buttonEl.style.display =\n",
              "        google.colab.kernel.accessAllowed ? 'block' : 'none';\n",
              "\n",
              "      async function convertToInteractive(key) {\n",
              "        const element = document.querySelector('#df-235395cf-a8b2-45e1-bd0a-bfe4475f9710');\n",
              "        const dataTable =\n",
              "          await google.colab.kernel.invokeFunction('convertToInteractive',\n",
              "                                                    [key], {});\n",
              "        if (!dataTable) return;\n",
              "\n",
              "        const docLinkHtml = 'Like what you see? Visit the ' +\n",
              "          '<a target=\"_blank\" href=https://colab.research.google.com/notebooks/data_table.ipynb>data table notebook</a>'\n",
              "          + ' to learn more about interactive tables.';\n",
              "        element.innerHTML = '';\n",
              "        dataTable['output_type'] = 'display_data';\n",
              "        await google.colab.output.renderOutput(dataTable, element);\n",
              "        const docLink = document.createElement('div');\n",
              "        docLink.innerHTML = docLinkHtml;\n",
              "        element.appendChild(docLink);\n",
              "      }\n",
              "    </script>\n",
              "  </div>\n",
              "\n",
              "\n",
              "    </div>\n",
              "  </div>\n"
            ]
          },
          "metadata": {},
          "execution_count": 16
        }
      ]
    },
    {
      "cell_type": "code",
      "source": [
        "#Dividindo a base em treino e teste(20%)\n",
        "df_treino, df_teste = train_test_split(df, test_size=0.3, stratify=df['Churn'], random_state=42)\n",
        "#Organizando os índices\n",
        "df_treino.reset_index(drop=True, inplace=True)\n",
        "df_teste.reset_index(drop=True, inplace=True)"
      ],
      "metadata": {
        "id": "p97PiIs66neH"
      },
      "execution_count": 17,
      "outputs": []
    },
    {
      "cell_type": "markdown",
      "source": [
        "#Análise exploratória"
      ],
      "metadata": {
        "id": "O5Dhey8k7N3R"
      }
    },
    {
      "cell_type": "markdown",
      "source": [
        "##Univariada"
      ],
      "metadata": {
        "id": "c8UubyUR7y0A"
      }
    },
    {
      "cell_type": "code",
      "source": [
        "#Analisando a variável Churn\n",
        "qualitativa(df_treino['Churn'])"
      ],
      "metadata": {
        "colab": {
          "base_uri": "https://localhost:8080/",
          "height": 450
        },
        "id": "sY-nCCML7Qwb",
        "outputId": "d8905dff-97e3-492f-c499-a2b4c2f49dde"
      },
      "execution_count": 18,
      "outputs": [
        {
          "output_type": "stream",
          "name": "stdout",
          "text": [
            "TABELA DE FREQUÊNCIA\n",
            " \n",
            " Churn  frequencia_absoluta  frequencia_relativa  frequencia_acumulada\n",
            "     0                 5591             0.798714              0.798714\n",
            "     1                 1409             0.201286              1.000000\n",
            " \n",
            "CONTAGEM DE VALORES NULOS/AUSENTES\n",
            "0\n",
            " \n",
            "GRÁFICO DE PIZZA\n"
          ]
        },
        {
          "output_type": "display_data",
          "data": {
            "text/plain": [
              "<Figure size 300x300 with 1 Axes>"
            ],
            "image/png": "[encoded data removed]"
          },
          "metadata": {}
        }
      ]
    },
    {
      "cell_type": "markdown",
      "source": [
        "<font color=\"yellow\" size=\"4\">A percentual de churn de 20,1% está acima dos padrões de marcado.</font>"
      ],
      "metadata": {
        "id": "4H7dn_Zy_ZLZ"
      }
    },
    {
      "cell_type": "code",
      "source": [
        "#Analisando a variável Estado\n",
        "qualitativa(df_treino['Estado'])"
      ],
      "metadata": {
        "colab": {
          "base_uri": "https://localhost:8080/",
          "height": 466
        },
        "id": "ZmZVUsTZ99DJ",
        "outputId": "0aa79a43-7fbb-490d-c8b1-9204850fc1bb"
      },
      "execution_count": 19,
      "outputs": [
        {
          "output_type": "stream",
          "name": "stdout",
          "text": [
            "TABELA DE FREQUÊNCIA\n",
            " \n",
            "        Estado  frequencia_absoluta  frequencia_relativa  frequencia_acumulada\n",
            "     São Paulo                 3493             0.499000              0.499000\n",
            "  Minas Gerais                 1798             0.256857              0.755857\n",
            "Rio de Janeiro                 1709             0.244143              1.000000\n",
            " \n",
            "CONTAGEM DE VALORES NULOS/AUSENTES\n",
            "0\n",
            " \n",
            "GRÁFICO DE PIZZA\n"
          ]
        },
        {
          "output_type": "display_data",
          "data": {
            "text/plain": [
              "<Figure size 300x300 with 1 Axes>"
            ],
            "image/png": "[encoded data removed]"
          },
          "metadata": {}
        }
      ]
    },
    {
      "cell_type": "code",
      "source": [
        "#Analisando a variável Gênero\n",
        "qualitativa(df_treino['Gênero'])"
      ],
      "metadata": {
        "colab": {
          "base_uri": "https://localhost:8080/",
          "height": 442
        },
        "id": "8CrRu7zJ-Q8X",
        "outputId": "bee23187-e2aa-40a0-9034-b61c0cbedca0"
      },
      "execution_count": 20,
      "outputs": [
        {
          "output_type": "stream",
          "name": "stdout",
          "text": [
            "TABELA DE FREQUÊNCIA\n",
            " \n",
            "   Gênero  frequencia_absoluta  frequencia_relativa  frequencia_acumulada\n",
            "Masculino                 3837             0.548143              0.548143\n",
            " Feminino                 3163             0.451857              1.000000\n",
            " \n",
            "CONTAGEM DE VALORES NULOS/AUSENTES\n",
            "0\n",
            " \n",
            "GRÁFICO DE PIZZA\n"
          ]
        },
        {
          "output_type": "display_data",
          "data": {
            "text/plain": [
              "<Figure size 300x300 with 1 Axes>"
            ],
            "image/png": "[encoded data removed]"
          },
          "metadata": {}
        }
      ]
    },
    {
      "cell_type": "code",
      "source": [
        "#Analisando a variável Qte_Categorias\n",
        "qualitativa(df_treino['Qte_Categorias'])"
      ],
      "metadata": {
        "colab": {
          "base_uri": "https://localhost:8080/",
          "height": 515
        },
        "id": "cprT8Lob-opI",
        "outputId": "b63ac1e0-022c-4d10-88ca-d21af90839d0"
      },
      "execution_count": 21,
      "outputs": [
        {
          "output_type": "stream",
          "name": "stdout",
          "text": [
            "TABELA DE FREQUÊNCIA\n",
            " \n",
            " Qte_Categorias  frequencia_absoluta  frequencia_relativa  frequencia_acumulada\n",
            "              1                 3572             0.510286              0.510286\n",
            "              2                 3199             0.457000              0.967286\n",
            "              3                  184             0.026286              0.993571\n",
            "              4                   45             0.006429              1.000000\n",
            " \n",
            "CONTAGEM DE VALORES NULOS/AUSENTES\n",
            "0\n",
            " \n",
            "GRÁFICO DE BARRAS\n"
          ]
        },
        {
          "output_type": "display_data",
          "data": {
            "text/plain": [
              "<Figure size 500x300 with 1 Axes>"
            ],
            "image/png": "[encoded data removed]"
          },
          "metadata": {}
        }
      ]
    },
    {
      "cell_type": "markdown",
      "source": [
        "<font color=\"yellow\" size=\"4\">Existe uma concentração de clientes que compraram até 2 categorias.</font>"
      ],
      "metadata": {
        "id": "MedO0Jx9_Ubp"
      }
    },
    {
      "cell_type": "code",
      "source": [
        "#Analisando a variável Usa_Cartao_Credito\n",
        "qualitativa(df_treino['Usa_Cartao_Credito'])"
      ],
      "metadata": {
        "colab": {
          "base_uri": "https://localhost:8080/",
          "height": 457
        },
        "id": "y0Jo1b3g_Qwd",
        "outputId": "f3bc7ffb-98e4-4392-ac3e-2b9e5483346a"
      },
      "execution_count": 22,
      "outputs": [
        {
          "output_type": "stream",
          "name": "stdout",
          "text": [
            "TABELA DE FREQUÊNCIA\n",
            " \n",
            " Usa_Cartao_Credito  frequencia_absoluta  frequencia_relativa  frequencia_acumulada\n",
            "                  1                 4962             0.708857              0.708857\n",
            "                  0                 2038             0.291143              1.000000\n",
            " \n",
            "CONTAGEM DE VALORES NULOS/AUSENTES\n",
            "0\n",
            " \n",
            "GRÁFICO DE PIZZA\n"
          ]
        },
        {
          "output_type": "display_data",
          "data": {
            "text/plain": [
              "<Figure size 300x300 with 1 Axes>"
            ],
            "image/png": "[encoded data removed]"
          },
          "metadata": {}
        }
      ]
    },
    {
      "cell_type": "code",
      "source": [
        "#Analisando a variável Programa_Fidelidade\n",
        "qualitativa(df_treino['Programa_Fidelidade'])"
      ],
      "metadata": {
        "colab": {
          "base_uri": "https://localhost:8080/",
          "height": 442
        },
        "id": "8M7kTnPg_3L8",
        "outputId": "b016ac70-a3e5-44a9-cfe0-c03a18e78812"
      },
      "execution_count": 23,
      "outputs": [
        {
          "output_type": "stream",
          "name": "stdout",
          "text": [
            "TABELA DE FREQUÊNCIA\n",
            " \n",
            " Programa_Fidelidade  frequencia_absoluta  frequencia_relativa  frequencia_acumulada\n",
            "                   1                 3646             0.520857              0.520857\n",
            "                   0                 3354             0.479143              1.000000\n",
            " \n",
            "CONTAGEM DE VALORES NULOS/AUSENTES\n",
            "0\n",
            " \n",
            "GRÁFICO DE PIZZA\n"
          ]
        },
        {
          "output_type": "display_data",
          "data": {
            "text/plain": [
              "<Figure size 300x300 with 1 Axes>"
            ],
            "image/png": "[encoded data removed]"
          },
          "metadata": {}
        }
      ]
    },
    {
      "cell_type": "code",
      "source": [
        "#Analisando a variável Idade\n",
        "quantitativa(df_treino['Idade'])"
      ],
      "metadata": {
        "colab": {
          "base_uri": "https://localhost:8080/",
          "height": 585
        },
        "id": "j2j-yR2fAKBD",
        "outputId": "f4164b65-dac5-43fd-c37f-57057e592fd5"
      },
      "execution_count": 24,
      "outputs": [
        {
          "output_type": "stream",
          "name": "stdout",
          "text": [
            "MEDIDAS ESTATÍSTICAS\n",
            "\n",
            "  count    7000.000000\n",
            "mean       38.881571\n",
            "std        10.487031\n",
            "min        18.000000\n",
            "25%        32.000000\n",
            "50%        37.000000\n",
            "75%        44.000000\n",
            "max        92.000000\n",
            "Name: Idade, dtype: float64\n",
            "\n",
            "CONTAGEM DE VALORES NULOS/AUSENTES\n",
            "  0\n",
            "\n",
            "HISTOGRAMA E BOXPLOT\n"
          ]
        },
        {
          "output_type": "display_data",
          "data": {
            "text/plain": [
              "<Figure size 600x300 with 2 Axes>"
            ],
            "image/png": "[encoded data removed]"
          },
          "metadata": {}
        }
      ]
    },
    {
      "cell_type": "markdown",
      "source": [
        "<font color=\"yellow\" size=\"4\">75% da base possui até 44 anos, porém há muitos outliers.</font>"
      ],
      "metadata": {
        "id": "p74cEyxrA8zu"
      }
    },
    {
      "cell_type": "code",
      "source": [
        "#Analisando a Tempo_Cliente\n",
        "quantitativa(df_treino['Tempo_Cliente'])"
      ],
      "metadata": {
        "colab": {
          "base_uri": "https://localhost:8080/",
          "height": 585
        },
        "id": "pgpDzAk1AbOv",
        "outputId": "d91dde56-845b-41a9-a3b5-18dcff777503"
      },
      "execution_count": 25,
      "outputs": [
        {
          "output_type": "stream",
          "name": "stdout",
          "text": [
            "MEDIDAS ESTATÍSTICAS\n",
            "\n",
            "  count    7000.000000\n",
            "mean        4.961714\n",
            "std         2.874668\n",
            "min         0.000000\n",
            "25%         2.000000\n",
            "50%         5.000000\n",
            "75%         7.000000\n",
            "max        10.000000\n",
            "Name: Tempo_Cliente, dtype: float64\n",
            "\n",
            "CONTAGEM DE VALORES NULOS/AUSENTES\n",
            "  0\n",
            "\n",
            "HISTOGRAMA E BOXPLOT\n"
          ]
        },
        {
          "output_type": "display_data",
          "data": {
            "text/plain": [
              "<Figure size 600x300 with 2 Axes>"
            ],
            "image/png": "[encoded data removed]"
          },
          "metadata": {}
        }
      ]
    },
    {
      "cell_type": "code",
      "source": [
        "#Analisando a Score_Credito\n",
        "quantitativa(df_treino['Score_Credito'])"
      ],
      "metadata": {
        "colab": {
          "base_uri": "https://localhost:8080/",
          "height": 585
        },
        "id": "4T-1razwBkwt",
        "outputId": "3a39db58-a4d0-47a9-d426-05f159ee6091"
      },
      "execution_count": 26,
      "outputs": [
        {
          "output_type": "stream",
          "name": "stdout",
          "text": [
            "MEDIDAS ESTATÍSTICAS\n",
            "\n",
            "  count    7000.000000\n",
            "mean      649.651429\n",
            "std        96.629539\n",
            "min       350.000000\n",
            "25%       582.000000\n",
            "50%       651.000000\n",
            "75%       717.000000\n",
            "max       850.000000\n",
            "Name: Score_Credito, dtype: float64\n",
            "\n",
            "CONTAGEM DE VALORES NULOS/AUSENTES\n",
            "  0\n",
            "\n",
            "HISTOGRAMA E BOXPLOT\n"
          ]
        },
        {
          "output_type": "display_data",
          "data": {
            "text/plain": [
              "<Figure size 600x300 with 2 Axes>"
            ],
            "image/png": "[encoded data removed]"
          },
          "metadata": {}
        }
      ]
    },
    {
      "cell_type": "code",
      "source": [
        "#Analisando a Limite_Credito_Mercado\n",
        "quantitativa(df_treino['Limite_Credito_Mercado'])"
      ],
      "metadata": {
        "colab": {
          "base_uri": "https://localhost:8080/",
          "height": 585
        },
        "id": "dkdQGw9SB2yY",
        "outputId": "84dc8872-a1ac-4c12-b1e0-ada2a28d0758"
      },
      "execution_count": 27,
      "outputs": [
        {
          "output_type": "stream",
          "name": "stdout",
          "text": [
            "MEDIDAS ESTATÍSTICAS\n",
            "\n",
            "  count    7000.000000\n",
            "mean      771.413823\n",
            "std       621.183487\n",
            "min         0.000000\n",
            "25%         0.000000\n",
            "50%       974.056050\n",
            "75%      1278.232750\n",
            "max      2508.980900\n",
            "Name: Limite_Credito_Mercado, dtype: float64\n",
            "\n",
            "CONTAGEM DE VALORES NULOS/AUSENTES\n",
            "  0\n",
            "\n",
            "HISTOGRAMA E BOXPLOT\n"
          ]
        },
        {
          "output_type": "display_data",
          "data": {
            "text/plain": [
              "<Figure size 600x300 with 2 Axes>"
            ],
            "image/png": "[encoded data removed]"
          },
          "metadata": {}
        }
      ]
    },
    {
      "cell_type": "markdown",
      "source": [
        "<font color=\"yellow\" size=\"4\">Apesar da base possuir bom score(variável Score_Credito), até 25% da base não possui crédito no mercado, o que pode indicar uma inconsistência.</font>"
      ],
      "metadata": {
        "id": "VIVqpRTwCHqn"
      }
    },
    {
      "cell_type": "code",
      "source": [
        "#Analisando a Sum_Pedidos_Acumulados\n",
        "quantitativa(df_treino['Sum_Pedidos_Acumulados'])"
      ],
      "metadata": {
        "colab": {
          "base_uri": "https://localhost:8080/",
          "height": 585
        },
        "id": "a7HebztvCtGu",
        "outputId": "13a3cae4-1eea-4546-bc7f-041266b2cd97"
      },
      "execution_count": 28,
      "outputs": [
        {
          "output_type": "stream",
          "name": "stdout",
          "text": [
            "MEDIDAS ESTATÍSTICAS\n",
            "\n",
            "  count    7000.000000\n",
            "mean      415.975420\n",
            "std       240.150532\n",
            "min         0.375292\n",
            "25%       207.687583\n",
            "50%       415.084812\n",
            "75%       623.240042\n",
            "max       833.211417\n",
            "Name: Sum_Pedidos_Acumulados, dtype: float64\n",
            "\n",
            "CONTAGEM DE VALORES NULOS/AUSENTES\n",
            "  0\n",
            "\n",
            "HISTOGRAMA E BOXPLOT\n"
          ]
        },
        {
          "output_type": "display_data",
          "data": {
            "text/plain": [
              "<Figure size 600x300 with 2 Axes>"
            ],
            "image/png": "[encoded data removed]"
          },
          "metadata": {}
        }
      ]
    },
    {
      "cell_type": "markdown",
      "source": [
        "##Bivariada"
      ],
      "metadata": {
        "id": "Vt7oybrZDMcz"
      }
    },
    {
      "cell_type": "code",
      "source": [
        "#Analisando associação entre Estado e Churn\n",
        "Estado = tabela_iv(df_treino['Estado'],df_treino['Churn'])"
      ],
      "metadata": {
        "id": "AgkA3cRFDJvY",
        "colab": {
          "base_uri": "https://localhost:8080/",
          "height": 446
        },
        "outputId": "29d4649c-552a-458d-fabf-a465b4bfc28b"
      },
      "execution_count": 29,
      "outputs": [
        {
          "output_type": "stream",
          "name": "stdout",
          "text": [
            "Churn              0    1  Taxa_Valor_Um      Odds        IV\n",
            "Estado                                                      \n",
            "São Paulo       2951  542       0.155167  0.728800  0.045284\n",
            "Rio de Janeiro  1437  272       0.159157  0.751088  0.018312\n",
            "Minas Gerais    1203  595       0.330923  1.962591  0.139653\n",
            "\n",
            "O INFORMATION VALUE TOTAL É: 0.2\n",
            "CLASSIFICADO COMO: MÉDIO\n"
          ]
        },
        {
          "output_type": "display_data",
          "data": {
            "text/plain": [
              "<Figure size 500x300 with 1 Axes>"
            ],
            "image/png": "[encoded data removed]"
          },
          "metadata": {}
        }
      ]
    },
    {
      "cell_type": "markdown",
      "source": [
        "<font color=\"yellow\" size=\"4\">O estado de Minas Gerais é o estado com a maior taxa de churn.</font>"
      ],
      "metadata": {
        "id": "P2aZf0_R8E6z"
      }
    },
    {
      "cell_type": "code",
      "source": [
        "#Analisando associação entre Gênero e Churn\n",
        "Genero = tabela_iv(df_treino['Gênero'],df_treino['Churn'])"
      ],
      "metadata": {
        "colab": {
          "base_uri": "https://localhost:8080/",
          "height": 428
        },
        "id": "rTGhKuMV8FXM",
        "outputId": "f2a901db-b116-4113-c636-38b508208332"
      },
      "execution_count": 30,
      "outputs": [
        {
          "output_type": "stream",
          "name": "stdout",
          "text": [
            "Churn         0    1  Taxa_Valor_Um      Odds        IV\n",
            "Gênero                                                 \n",
            "Masculino  3221  616       0.160542  0.758872  0.038330\n",
            "Feminino   2370  793       0.250711  1.327710  0.039376\n",
            "\n",
            "O INFORMATION VALUE TOTAL É: 0.08\n",
            "CLASSIFICADO COMO: FRACO\n"
          ]
        },
        {
          "output_type": "display_data",
          "data": {
            "text/plain": [
              "<Figure size 500x300 with 1 Axes>"
            ],
            "image/png": "[encoded data removed]"
          },
          "metadata": {}
        }
      ]
    },
    {
      "cell_type": "code",
      "source": [
        "#Analisando associação entre Qte_Categorias e Churn\n",
        "Qte_Categorias = tabela_iv(df_treino['Qte_Categorias'],df_treino['Churn'])"
      ],
      "metadata": {
        "colab": {
          "base_uri": "https://localhost:8080/",
          "height": 463
        },
        "id": "RSRKPRWe8b-k",
        "outputId": "cbe24f8c-883a-40aa-fa30-82020218a776"
      },
      "execution_count": 31,
      "outputs": [
        {
          "output_type": "stream",
          "name": "stdout",
          "text": [
            "Churn              0    1  Taxa_Valor_Um        Odds        IV\n",
            "Qte_Categorias                                                \n",
            "2               2969  230       0.071897    0.307395  0.433860\n",
            "1               2591  981       0.274636    1.502381  0.094768\n",
            "3                 30  154       0.836957   20.369387  0.313253\n",
            "4                  1   44       0.977778  174.594748  0.160289\n",
            "\n",
            "O INFORMATION VALUE TOTAL É: 1.0\n",
            "CLASSIFICADO COMO: MUITO FORTE\n"
          ]
        },
        {
          "output_type": "display_data",
          "data": {
            "text/plain": [
              "<Figure size 500x300 with 1 Axes>"
            ],
            "image/png": "[encoded data removed]"
          },
          "metadata": {}
        }
      ]
    },
    {
      "cell_type": "markdown",
      "source": [
        "<font color=\"yellow\" size=\"4\">Clientes que compraram em 2 categorias possuem a menor taxa de churn(0,07%), em contrapartida, clientes que compraram acima de 2 categorias apresentaram uma taxa de churn muito superior. Uma hipótese levatada foi que algumas categorias podem estar sendo privilegiadas em relação as demais, por isso se faz necessário realizar uma análise mais apurada considerando também os tipos de categoria.</font>"
      ],
      "metadata": {
        "id": "Lt9SotCI8ukx"
      }
    },
    {
      "cell_type": "code",
      "source": [
        "#Analisando associação entre Usa_Cartao_Credito e Churn\n",
        "Usa_Cartao_Credito = tabela_iv(df_treino['Usa_Cartao_Credito'],df_treino['Churn'])"
      ],
      "metadata": {
        "colab": {
          "base_uri": "https://localhost:8080/",
          "height": 428
        },
        "id": "NL9dN51j8vek",
        "outputId": "67718e79-5c72-4126-c133-885a2c3f0ac1"
      },
      "execution_count": 32,
      "outputs": [
        {
          "output_type": "stream",
          "name": "stdout",
          "text": [
            "Churn                  0    1  Taxa_Valor_Um      Odds        IV\n",
            "Usa_Cartao_Credito                                              \n",
            "1                   3966  996       0.200726  0.996518  0.000009\n",
            "0                   1625  413       0.202650  1.008498  0.000021\n",
            "\n",
            "O INFORMATION VALUE TOTAL É: 0.0\n",
            "CLASSIFICADO COMO: MUITO FRACO\n"
          ]
        },
        {
          "output_type": "display_data",
          "data": {
            "text/plain": [
              "<Figure size 500x300 with 1 Axes>"
            ],
            "image/png": "[encoded data removed]"
          },
          "metadata": {}
        }
      ]
    },
    {
      "cell_type": "code",
      "source": [
        "#Analisando associação entre Programa_Fidelidade e Churn\n",
        "Programa_Fidelidade = tabela_iv(df_treino['Programa_Fidelidade'],df_treino['Churn'])"
      ],
      "metadata": {
        "colab": {
          "base_uri": "https://localhost:8080/",
          "height": 428
        },
        "id": "FYIK2jd99B5m",
        "outputId": "af0262c8-0083-457a-88ea-9e46435df627"
      },
      "execution_count": 33,
      "outputs": [
        {
          "output_type": "stream",
          "name": "stdout",
          "text": [
            "Churn                   0    1  Taxa_Valor_Um      Odds        IV\n",
            "Programa_Fidelidade                                              \n",
            "1                    3120  526       0.144268  0.668975  0.074261\n",
            "0                    2471  883       0.263268  1.417968  0.064511\n",
            "\n",
            "O INFORMATION VALUE TOTAL É: 0.14\n",
            "CLASSIFICADO COMO: MÉDIO\n"
          ]
        },
        {
          "output_type": "display_data",
          "data": {
            "text/plain": [
              "<Figure size 500x300 with 1 Axes>"
            ],
            "image/png": "[encoded data removed]"
          },
          "metadata": {}
        }
      ]
    },
    {
      "cell_type": "markdown",
      "source": [
        "<font color=\"yellow\" size=\"4\">Programas de fidelidade podem ser um bom incentivo a reduzir a taxa de Churn visto, porém é necessário analisar o potencial financeiro desses programas.</font>"
      ],
      "metadata": {
        "id": "dn2yGrkd9PDd"
      }
    },
    {
      "cell_type": "code",
      "source": [
        "#Analisando associação entre Idade e Churn\n",
        "Idade = tabela_iv(df_treino['Idade'],df_treino['Churn'])"
      ],
      "metadata": {
        "colab": {
          "base_uri": "https://localhost:8080/",
          "height": 619
        },
        "id": "ZMelOStU9P1F",
        "outputId": "a227e0c3-aaef-47dc-f9f4-f75b99ca9dd3"
      },
      "execution_count": 34,
      "outputs": [
        {
          "output_type": "display_data",
          "data": {
            "text/plain": [
              "<Figure size 400x300 with 1 Axes>"
            ],
            "image/png": "[encoded data removed]"
          },
          "metadata": {}
        },
        {
          "output_type": "stream",
          "name": "stdout",
          "text": [
            "Churn                0    1  Taxa_Valor_Um      Odds        IV\n",
            "Idade                                                         \n",
            "(74.923, 80.615]    26    0       0.000000  0.000000  0.000000\n",
            "(86.308, 92.0]       3    0       0.000000  0.000000  0.000000\n",
            "(17.926, 23.692]   206   17       0.076233  0.327461  0.027664\n",
            "(23.692, 29.385]   862   72       0.077088  0.331439  0.113828\n",
            "(29.385, 35.077]  1597  157       0.089510  0.390098  0.163995\n",
            "(69.231, 74.923]    63    9       0.125000  0.566866  0.002770\n",
            "(80.615, 86.308]     6    1       0.142857  0.661344  0.000150\n",
            "(35.077, 40.769]  1371  236       0.146857  0.683051  0.029626\n",
            "(63.538, 69.231]    83   30       0.265487  1.434239  0.002325\n",
            "(40.769, 46.462]   843  332       0.282553  1.562748  0.037881\n",
            "(57.846, 63.538]   134  106       0.441667  3.138915  0.058639\n",
            "(46.462, 52.154]   294  294       0.500000  3.968062  0.215114\n",
            "(52.154, 57.846]   103  155       0.600775  5.971356  0.163659\n",
            "\n",
            "O INFORMATION VALUE TOTAL É: 0.82\n",
            "CLASSIFICADO COMO: MUITO FORTE\n"
          ]
        }
      ]
    },
    {
      "cell_type": "markdown",
      "source": [
        "<font color=\"yellow\" size=\"4\">A idade possui forte poder de classificação quanto ao Churn. Clientes até 39 anos apresentam uma taxa de churn aceitável, porém a medida que a idade aumenta, a taxa também aumenta, ao ponto que clientes na faixa de 52 a 57 anos apresentam uma taxa de 58%, ou seja mais da metade dão Churn. Esse comportamento diminui quando a idade já é mais avançada, porém como há outliers é necessário análisar essa relação os excluindo.</font>"
      ],
      "metadata": {
        "id": "vk3F5uK39-Vl"
      }
    },
    {
      "cell_type": "code",
      "source": [
        "#Analisando associação entre Tempo_Cliente e Churn\n",
        "Tempo_Cliente = tabela_iv(df_treino['Tempo_Cliente'],df_treino['Churn'])"
      ],
      "metadata": {
        "colab": {
          "base_uri": "https://localhost:8080/",
          "height": 585
        },
        "id": "afh24Pt49-0E",
        "outputId": "6ff24b46-1012-45cf-d6a2-9f9ca941a29d"
      },
      "execution_count": 35,
      "outputs": [
        {
          "output_type": "stream",
          "name": "stdout",
          "text": [
            "Churn            0    1  Taxa_Valor_Um      Odds        IV\n",
            "Tempo_Cliente                                             \n",
            "7              586  132       0.183844  0.893830  0.001249\n",
            "8              568  128       0.183908  0.894211  0.001202\n",
            "2              590  133       0.183956  0.894495  0.001241\n",
            "3              586  140       0.192837  0.948001  0.000291\n",
            "6              542  130       0.193452  0.951749  0.000231\n",
            "10             269   66       0.197015  0.973577  0.000034\n",
            "4              577  150       0.206327  1.031559  0.000101\n",
            "1              586  157       0.211306  1.063116  0.000405\n",
            "5              565  154       0.214186  1.081560  0.000646\n",
            "9              508  146       0.223242  1.140427  0.001677\n",
            "0              214   73       0.254355  1.353591  0.004098\n",
            "\n",
            "O INFORMATION VALUE TOTAL É: 0.01\n",
            "CLASSIFICADO COMO: MUITO FRACO\n"
          ]
        },
        {
          "output_type": "display_data",
          "data": {
            "text/plain": [
              "<Figure size 500x300 with 1 Axes>"
            ],
            "image/png": "[encoded data removed]"
          },
          "metadata": {}
        }
      ]
    },
    {
      "cell_type": "code",
      "source": [
        "#Analisando associação entre Score_Credito e Churn\n",
        "Score_Credito = tabela_iv(df_treino['Score_Credito'],df_treino['Churn'])"
      ],
      "metadata": {
        "colab": {
          "base_uri": "https://localhost:8080/",
          "height": 619
        },
        "id": "mtPYPgGt_Isc",
        "outputId": "71fe7c1e-550d-4499-dcd9-0e3a07b89944"
      },
      "execution_count": 36,
      "outputs": [
        {
          "output_type": "display_data",
          "data": {
            "text/plain": [
              "<Figure size 400x300 with 1 Axes>"
            ],
            "image/png": "[encoded data removed]"
          },
          "metadata": {}
        },
        {
          "output_type": "stream",
          "name": "stdout",
          "text": [
            "Churn                 0    1  Taxa_Valor_Um      Odds        IV\n",
            "Score_Credito                                                  \n",
            "(811.538, 850.0]    283   64       0.184438  0.897371  0.000563\n",
            "(657.692, 696.154]  838  190       0.184825  0.899680  0.001590\n",
            "(773.077, 811.538]  330   76       0.187192  0.913857  0.000458\n",
            "(465.385, 503.846]  224   53       0.191336  0.938872  0.000154\n",
            "(696.154, 734.615]  729  175       0.193584  0.952553  0.000301\n",
            "(580.769, 619.231]  782  192       0.197125  0.974256  0.000094\n",
            "(619.231, 657.692]  804  210       0.207101  1.036434  0.000187\n",
            "(426.923, 465.385]  114   30       0.208333  1.044227  0.000039\n",
            "(388.462, 426.923]   34    9       0.209302  1.050369  0.000015\n",
            "(542.308, 580.769]  541  145       0.211370  1.063529  0.000379\n",
            "(503.846, 542.308]  422  115       0.214153  1.081344  0.000480\n",
            "(734.615, 773.077]  490  140       0.222222  1.133732  0.001471\n",
            "(349.5, 388.462]      0   10       1.000000       inf  0.000000\n",
            "\n",
            "O INFORMATION VALUE TOTAL É: 0.01\n",
            "CLASSIFICADO COMO: MUITO FRACO\n"
          ]
        }
      ]
    },
    {
      "cell_type": "code",
      "source": [
        "#Analisando associação entre Limite_Credito_Mercado e Churn\n",
        "Limite_Credito_Mercado = tabela_iv(df_treino['Limite_Credito_Mercado'],df_treino['Churn'])"
      ],
      "metadata": {
        "colab": {
          "base_uri": "https://localhost:8080/",
          "height": 619
        },
        "id": "_JsVRik-_SIE",
        "outputId": "c8f335cd-8f13-4173-c3b3-ba56b4ceef91"
      },
      "execution_count": 37,
      "outputs": [
        {
          "output_type": "display_data",
          "data": {
            "text/plain": [
              "<Figure size 400x300 with 1 Axes>"
            ],
            "image/png": "[encoded data removed]"
          },
          "metadata": {}
        },
        {
          "output_type": "stream",
          "name": "stdout",
          "text": [
            "Churn                      0    1  Taxa_Valor_Um      Odds        IV\n",
            "Limite_Credito_Mercado                                              \n",
            "(-2.509, 192.999]       2158  331       0.132985  0.608632  0.075007\n",
            "(578.996, 771.994]       209   46       0.180392  0.873353  0.000641\n",
            "(771.994, 964.993]       503  115       0.186084  0.907211  0.000813\n",
            "(1543.988, 1736.987]     270   75       0.217391  1.102240  0.000481\n",
            "(1350.99, 1543.988]      629  181       0.223457  1.141843  0.002117\n",
            "(1736.987, 1929.985]     108   34       0.239437  1.249205  0.001071\n",
            "(964.993, 1157.991]      804  264       0.247191  1.302946  0.011528\n",
            "(1157.991, 1350.99]      832  319       0.277150  1.521409  0.032560\n",
            "(385.997, 578.996]        51   21       0.291667  1.633908  0.002839\n",
            "(2122.984, 2315.982]       4    2       0.333333  1.984031  0.000482\n",
            "(192.999, 385.997]         9    5       0.357143  2.204479  0.001533\n",
            "(1929.985, 2122.984]      14   14       0.500000  3.968062  0.010244\n",
            "(2315.982, 2508.981]       0    2       1.000000       inf  0.000000\n",
            "\n",
            "O INFORMATION VALUE TOTAL É: 0.14\n",
            "CLASSIFICADO COMO: MÉDIO\n"
          ]
        }
      ]
    },
    {
      "cell_type": "markdown",
      "source": [
        "<font color=\"yellow\" size=\"4\">Usuários com maior limite de crédito apresentam uma leve tendência em dar Churn</font>"
      ],
      "metadata": {
        "id": "HfPeB0yN_jqU"
      }
    },
    {
      "cell_type": "code",
      "source": [
        "#Analisando associação entre Sum_Pedidos_Acumulados e Churn\n",
        "Sum_Pedidos_Acumulados = tabela_iv(df_treino['Sum_Pedidos_Acumulados'],df_treino['Churn'])"
      ],
      "metadata": {
        "colab": {
          "base_uri": "https://localhost:8080/",
          "height": 619
        },
        "id": "SAmSe9Ph_kAd",
        "outputId": "5a55a749-5c8d-47db-d6ac-9455d405916f"
      },
      "execution_count": 38,
      "outputs": [
        {
          "output_type": "display_data",
          "data": {
            "text/plain": [
              "<Figure size 400x300 with 1 Axes>"
            ],
            "image/png": "[encoded data removed]"
          },
          "metadata": {}
        },
        {
          "output_type": "stream",
          "name": "stdout",
          "text": [
            "Churn                     0    1  Taxa_Valor_Um      Odds        IV\n",
            "Sum_Pedidos_Acumulados                                             \n",
            "(384.761, 448.826]      456   99       0.178378  0.861487  0.001684\n",
            "(320.697, 384.761]      462  105       0.185185  0.901832  0.000838\n",
            "(256.633, 320.697]      430  101       0.190207  0.932033  0.000368\n",
            "(512.89, 576.954]       423  101       0.192748  0.947457  0.000215\n",
            "(64.44, 128.504]        427  102       0.192817  0.947874  0.000213\n",
            "(128.504, 192.568]      445  107       0.193841  0.954118  0.000172\n",
            "(769.147, 833.211]      420  107       0.203036  1.010911  0.000009\n",
            "(-0.458, 64.44]         420  108       0.204545  1.020359  0.000031\n",
            "(448.826, 512.89]       416  109       0.207619  1.039709  0.000115\n",
            "(641.018, 705.083]      398  107       0.211881  1.066791  0.000307\n",
            "(576.954, 641.018]      428  116       0.213235  1.075456  0.000420\n",
            "(705.083, 769.147]      439  125       0.221631  1.129858  0.001245\n",
            "(192.568, 256.633]      427  122       0.222222  1.133732  0.001282\n",
            "\n",
            "O INFORMATION VALUE TOTAL É: 0.01\n",
            "CLASSIFICADO COMO: MUITO FRACO\n"
          ]
        }
      ]
    },
    {
      "cell_type": "markdown",
      "source": [
        "#Preparação dos dados"
      ],
      "metadata": {
        "id": "zsff3UX6EBnD"
      }
    },
    {
      "cell_type": "markdown",
      "source": [
        "##Separando as bases em X e y"
      ],
      "metadata": {
        "id": "5BCx1bigeSu-"
      }
    },
    {
      "cell_type": "code",
      "source": [
        "#Fazendo uma cópia do df para iniciar a preparação dos dados\n",
        "df_treino_prep = df_treino.copy()\n",
        "df_teste_prep = df_teste.copy()"
      ],
      "metadata": {
        "id": "qhc0IAZ2EEKr"
      },
      "execution_count": 39,
      "outputs": []
    },
    {
      "cell_type": "code",
      "source": [
        "#Separando em variável explicativa e resposta\n",
        "X = df_treino_prep.drop(['Churn','ClientId'], axis=1)\n",
        "y = df_treino_prep['Churn']\n",
        "X_teste = df_teste_prep.drop(['Churn','ClientId'], axis=1)\n",
        "y_teste = df_teste_prep['Churn']"
      ],
      "metadata": {
        "id": "N9NeHYDYclN4"
      },
      "execution_count": 40,
      "outputs": []
    },
    {
      "cell_type": "code",
      "source": [
        "y.info()"
      ],
      "metadata": {
        "colab": {
          "base_uri": "https://localhost:8080/"
        },
        "id": "AvNIfWBjGJPP",
        "outputId": "07208d1d-5a64-4c93-a94b-ee5f2ac2a959"
      },
      "execution_count": 41,
      "outputs": [
        {
          "output_type": "stream",
          "name": "stdout",
          "text": [
            "<class 'pandas.core.series.Series'>\n",
            "RangeIndex: 7000 entries, 0 to 6999\n",
            "Series name: Churn\n",
            "Non-Null Count  Dtype\n",
            "--------------  -----\n",
            "7000 non-null   int64\n",
            "dtypes: int64(1)\n",
            "memory usage: 54.8 KB\n"
          ]
        }
      ]
    },
    {
      "cell_type": "markdown",
      "source": [
        "##Tratando variáveis categóricas"
      ],
      "metadata": {
        "id": "AgZL0MLheaiO"
      }
    },
    {
      "cell_type": "code",
      "source": [
        "#Alterando o tipo da variável Qte_categorias para ela se tornar dummie\n",
        "X['Qte_Categorias'] = X['Qte_Categorias'].astype(str)\n",
        "X_teste['Qte_Categorias'] = X_teste['Qte_Categorias'].astype(str)\n",
        "#Codificando para adequar ao processamento do modelo\n",
        "X = pd.get_dummies(X, drop_first=True)\n",
        "X_teste = pd.get_dummies(X_teste, drop_first=True)"
      ],
      "metadata": {
        "id": "b8-PHFLqb_qP"
      },
      "execution_count": 42,
      "outputs": []
    },
    {
      "cell_type": "markdown",
      "source": [
        "##Selecionando variáveis"
      ],
      "metadata": {
        "id": "mdzClLHjeiLQ"
      }
    },
    {
      "cell_type": "code",
      "source": [
        "#Selecionando com base no p-valor(Eliminação Stepwise)\n",
        "model = sm.Logit(y, X)\n",
        "result = model.fit()\n",
        "result.pvalues.apply(lambda x: f\"{x:.3f}\")"
      ],
      "metadata": {
        "colab": {
          "base_uri": "https://localhost:8080/"
        },
        "id": "pylPyQuta1yv",
        "outputId": "5478ad3c-48a5-4318-c37e-9bf1909d39a5"
      },
      "execution_count": 43,
      "outputs": [
        {
          "output_type": "stream",
          "name": "stdout",
          "text": [
            "Optimization terminated successfully.\n",
            "         Current function value: 0.367567\n",
            "         Iterations 8\n"
          ]
        },
        {
          "output_type": "execute_result",
          "data": {
            "text/plain": [
              "Score_Credito             0.000\n",
              "Idade                     0.000\n",
              "Tempo_Cliente             0.018\n",
              "Limite_Credito_Mercado    0.026\n",
              "Usa_Cartao_Credito        0.074\n",
              "Programa_Fidelidade       0.000\n",
              "Sum_Pedidos_Acumulados    0.225\n",
              "Estado_Rio de Janeiro     0.000\n",
              "Estado_São Paulo          0.000\n",
              "Gênero_Masculino          0.000\n",
              "Qte_Categorias_2          0.000\n",
              "Qte_Categorias_3          0.000\n",
              "Qte_Categorias_4          0.000\n",
              "dtype: object"
            ]
          },
          "metadata": {},
          "execution_count": 43
        }
      ]
    },
    {
      "cell_type": "code",
      "source": [
        "#Excluindo as variáveis com p-valor alto\n",
        "X = X.drop(['Sum_Pedidos_Acumulados','Usa_Cartao_Credito','Limite_Credito_Mercado'], axis=1)\n",
        "#Rodando novamente o modelo\n",
        "model = sm.Logit(y, X)\n",
        "result = model.fit()\n",
        "result.pvalues.apply(lambda x: f\"{x:.3f}\")"
      ],
      "metadata": {
        "colab": {
          "base_uri": "https://localhost:8080/"
        },
        "id": "Q3wKX4qQep7_",
        "outputId": "3af29352-06de-425d-bf5d-dcf87187c1c6"
      },
      "execution_count": 44,
      "outputs": [
        {
          "output_type": "stream",
          "name": "stdout",
          "text": [
            "Optimization terminated successfully.\n",
            "         Current function value: 0.368312\n",
            "         Iterations 8\n"
          ]
        },
        {
          "output_type": "execute_result",
          "data": {
            "text/plain": [
              "Score_Credito            0.000\n",
              "Idade                    0.000\n",
              "Tempo_Cliente            0.007\n",
              "Programa_Fidelidade      0.000\n",
              "Estado_Rio de Janeiro    0.000\n",
              "Estado_São Paulo         0.000\n",
              "Gênero_Masculino         0.000\n",
              "Qte_Categorias_2         0.000\n",
              "Qte_Categorias_3         0.000\n",
              "Qte_Categorias_4         0.000\n",
              "dtype: object"
            ]
          },
          "metadata": {},
          "execution_count": 44
        }
      ]
    },
    {
      "cell_type": "code",
      "source": [
        "#Aplicando a transformação na base teste\n",
        "X_teste = X_teste.drop(['Sum_Pedidos_Acumulados','Usa_Cartao_Credito','Limite_Credito_Mercado'], axis=1)"
      ],
      "metadata": {
        "id": "YxTOvmxwgXzH"
      },
      "execution_count": 45,
      "outputs": []
    },
    {
      "cell_type": "markdown",
      "source": [
        "##Tratamento de outliers"
      ],
      "metadata": {
        "id": "P_E0hTEigx6q"
      }
    },
    {
      "cell_type": "code",
      "source": [
        "#Encontrando os outliers da variável Idade\n",
        "indices_outliers = outliers(X['Idade'],y)\n",
        "#Excluindo os outliers\n",
        "X = X.drop(indices_outliers)\n",
        "y = y.drop(indices_outliers)\n",
        "#Organizando os índices\n",
        "X.reset_index(drop=True, inplace=True)\n",
        "y.reset_index(drop=True, inplace=True)"
      ],
      "metadata": {
        "id": "ANSVxgmtg0Rn"
      },
      "execution_count": 46,
      "outputs": []
    },
    {
      "cell_type": "code",
      "source": [
        "#Verificando o novo IV\n",
        "tabela_iv(X['Idade'],y)"
      ],
      "metadata": {
        "colab": {
          "base_uri": "https://localhost:8080/",
          "height": 1000
        },
        "id": "ndNaa1vpsosC",
        "outputId": "44b76598-40e4-46f7-a8d4-79ee39266b68"
      },
      "execution_count": 47,
      "outputs": [
        {
          "output_type": "display_data",
          "data": {
            "text/plain": [
              "<Figure size 400x300 with 1 Axes>"
            ],
            "image/png": "[encoded data removed]"
          },
          "metadata": {}
        },
        {
          "output_type": "stream",
          "name": "stdout",
          "text": [
            "Churn              0    1  Taxa_Valor_Um       Odds        IV\n",
            "Idade                                                        \n",
            "(22.0, 26.0]     388   27       0.065060   0.260817  0.073404\n",
            "(17.948, 22.0]   144   12       0.076923   0.312336  0.021945\n",
            "(26.0, 30.0]     749   64       0.078721   0.320260  0.110398\n",
            "(30.0, 34.0]    1090   98       0.082492   0.336979  0.149704\n",
            "(34.0, 38.0]    1178  164       0.122206   0.521798  0.069782\n",
            "(38.0, 42.0]     870  216       0.198895   0.930547  0.000828\n",
            "(42.0, 46.0]     460  232       0.335260   1.890314  0.049662\n",
            "(46.0, 50.0]     230  217       0.485459   3.536192  0.140310\n",
            "(50.0, 54.0]     106  141       0.570850   4.985597  0.129256\n",
            "(54.0, 58.0]      36  109       0.751724  11.348223  0.172332\n",
            "(58.0, 62.0]       0   75       1.000000        inf  0.000000\n",
            "(62.0, 66.0]       0   32       1.000000        inf  0.000000\n",
            "(66.0, 70.0]       0   14       1.000000        inf  0.000000\n",
            "\n",
            "O INFORMATION VALUE TOTAL É: 0.92\n",
            "CLASSIFICADO COMO: MUITO FORTE\n"
          ]
        },
        {
          "output_type": "execute_result",
          "data": {
            "text/plain": [
              "Churn           Idade     0    1  Taxa_Valor_Um       Odds        IV\n",
              "0        (22.0, 26.0]   388   27       0.065060   0.260817  0.073404\n",
              "1      (17.948, 22.0]   144   12       0.076923   0.312336  0.021945\n",
              "2        (26.0, 30.0]   749   64       0.078721   0.320260  0.110398\n",
              "3        (30.0, 34.0]  1090   98       0.082492   0.336979  0.149704\n",
              "4        (34.0, 38.0]  1178  164       0.122206   0.521798  0.069782\n",
              "5        (38.0, 42.0]   870  216       0.198895   0.930547  0.000828\n",
              "6        (42.0, 46.0]   460  232       0.335260   1.890314  0.049662\n",
              "7        (46.0, 50.0]   230  217       0.485459   3.536192  0.140310\n",
              "8        (50.0, 54.0]   106  141       0.570850   4.985597  0.129256\n",
              "9        (54.0, 58.0]    36  109       0.751724  11.348223  0.172332\n",
              "10       (58.0, 62.0]     0   75       1.000000        inf  0.000000\n",
              "11       (62.0, 66.0]     0   32       1.000000        inf  0.000000\n",
              "12       (66.0, 70.0]     0   14       1.000000        inf  0.000000"
            ],
            "text/html": [
              "\n",
              "  <div id=\"df-1580c565-6f00-452a-9ee5-2699292e7be6\" class=\"colab-df-container\">\n",
              "    <div>\n",
              "<style scoped>\n",
              "    .dataframe tbody tr th:only-of-type {\n",
              "        vertical-align: middle;\n",
              "    }\n",
              "\n",
              "    .dataframe tbody tr th {\n",
              "        vertical-align: top;\n",
              "    }\n",
              "\n",
              "    .dataframe thead th {\n",
              "        text-align: right;\n",
              "    }\n",
              "</style>\n",
              "<table border=\"1\" class=\"dataframe\">\n",
              "  <thead>\n",
              "    <tr style=\"text-align: right;\">\n",
              "      <th>Churn</th>\n",
              "      <th>Idade</th>\n",
              "      <th>0</th>\n",
              "      <th>1</th>\n",
              "      <th>Taxa_Valor_Um</th>\n",
              "      <th>Odds</th>\n",
              "      <th>IV</th>\n",
              "    </tr>\n",
              "  </thead>\n",
              "  <tbody>\n",
              "    <tr>\n",
              "      <th>0</th>\n",
              "      <td>(22.0, 26.0]</td>\n",
              "      <td>388</td>\n",
              "      <td>27</td>\n",
              "      <td>0.065060</td>\n",
              "      <td>0.260817</td>\n",
              "      <td>0.073404</td>\n",
              "    </tr>\n",
              "    <tr>\n",
              "      <th>1</th>\n",
              "      <td>(17.948, 22.0]</td>\n",
              "      <td>144</td>\n",
              "      <td>12</td>\n",
              "      <td>0.076923</td>\n",
              "      <td>0.312336</td>\n",
              "      <td>0.021945</td>\n",
              "    </tr>\n",
              "    <tr>\n",
              "      <th>2</th>\n",
              "      <td>(26.0, 30.0]</td>\n",
              "      <td>749</td>\n",
              "      <td>64</td>\n",
              "      <td>0.078721</td>\n",
              "      <td>0.320260</td>\n",
              "      <td>0.110398</td>\n",
              "    </tr>\n",
              "    <tr>\n",
              "      <th>3</th>\n",
              "      <td>(30.0, 34.0]</td>\n",
              "      <td>1090</td>\n",
              "      <td>98</td>\n",
              "      <td>0.082492</td>\n",
              "      <td>0.336979</td>\n",
              "      <td>0.149704</td>\n",
              "    </tr>\n",
              "    <tr>\n",
              "      <th>4</th>\n",
              "      <td>(34.0, 38.0]</td>\n",
              "      <td>1178</td>\n",
              "      <td>164</td>\n",
              "      <td>0.122206</td>\n",
              "      <td>0.521798</td>\n",
              "      <td>0.069782</td>\n",
              "    </tr>\n",
              "    <tr>\n",
              "      <th>5</th>\n",
              "      <td>(38.0, 42.0]</td>\n",
              "      <td>870</td>\n",
              "      <td>216</td>\n",
              "      <td>0.198895</td>\n",
              "      <td>0.930547</td>\n",
              "      <td>0.000828</td>\n",
              "    </tr>\n",
              "    <tr>\n",
              "      <th>6</th>\n",
              "      <td>(42.0, 46.0]</td>\n",
              "      <td>460</td>\n",
              "      <td>232</td>\n",
              "      <td>0.335260</td>\n",
              "      <td>1.890314</td>\n",
              "      <td>0.049662</td>\n",
              "    </tr>\n",
              "    <tr>\n",
              "      <th>7</th>\n",
              "      <td>(46.0, 50.0]</td>\n",
              "      <td>230</td>\n",
              "      <td>217</td>\n",
              "      <td>0.485459</td>\n",
              "      <td>3.536192</td>\n",
              "      <td>0.140310</td>\n",
              "    </tr>\n",
              "    <tr>\n",
              "      <th>8</th>\n",
              "      <td>(50.0, 54.0]</td>\n",
              "      <td>106</td>\n",
              "      <td>141</td>\n",
              "      <td>0.570850</td>\n",
              "      <td>4.985597</td>\n",
              "      <td>0.129256</td>\n",
              "    </tr>\n",
              "    <tr>\n",
              "      <th>9</th>\n",
              "      <td>(54.0, 58.0]</td>\n",
              "      <td>36</td>\n",
              "      <td>109</td>\n",
              "      <td>0.751724</td>\n",
              "      <td>11.348223</td>\n",
              "      <td>0.172332</td>\n",
              "    </tr>\n",
              "    <tr>\n",
              "      <th>10</th>\n",
              "      <td>(58.0, 62.0]</td>\n",
              "      <td>0</td>\n",
              "      <td>75</td>\n",
              "      <td>1.000000</td>\n",
              "      <td>inf</td>\n",
              "      <td>0.000000</td>\n",
              "    </tr>\n",
              "    <tr>\n",
              "      <th>11</th>\n",
              "      <td>(62.0, 66.0]</td>\n",
              "      <td>0</td>\n",
              "      <td>32</td>\n",
              "      <td>1.000000</td>\n",
              "      <td>inf</td>\n",
              "      <td>0.000000</td>\n",
              "    </tr>\n",
              "    <tr>\n",
              "      <th>12</th>\n",
              "      <td>(66.0, 70.0]</td>\n",
              "      <td>0</td>\n",
              "      <td>14</td>\n",
              "      <td>1.000000</td>\n",
              "      <td>inf</td>\n",
              "      <td>0.000000</td>\n",
              "    </tr>\n",
              "  </tbody>\n",
              "</table>\n",
              "</div>\n",
              "    <div class=\"colab-df-buttons\">\n",
              "\n",
              "  <div class=\"colab-df-container\">\n",
              "    <button class=\"colab-df-convert\" onclick=\"convertToInteractive('df-1580c565-6f00-452a-9ee5-2699292e7be6')\"\n",
              "            title=\"Convert this dataframe to an interactive table.\"\n",
              "            style=\"display:none;\">\n",
              "\n",
              "  <svg xmlns=\"http://www.w3.org/2000/svg\" height=\"24px\" viewBox=\"0 -960 960 960\">\n",
              "    <path d=\"M120-120v-720h720v720H120Zm60-500h600v-160H180v160Zm220 220h160v-160H400v160Zm0 220h160v-160H400v160ZM180-400h160v-160H180v160Zm440 0h160v-160H620v160ZM180-180h160v-160H180v160Zm440 0h160v-160H620v160Z\"/>\n",
              "  </svg>\n",
              "    </button>\n",
              "\n",
              "  <style>\n",
              "    .colab-df-container {\n",
              "      display:flex;\n",
              "      gap: 12px;\n",
              "    }\n",
              "\n",
              "    .colab-df-convert {\n",
              "      background-color: #E8F0FE;\n",
              "      border: none;\n",
              "      border-radius: 50%;\n",
              "      cursor: pointer;\n",
              "      display: none;\n",
              "      fill: #1967D2;\n",
              "      height: 32px;\n",
              "      padding: 0 0 0 0;\n",
              "      width: 32px;\n",
              "    }\n",
              "\n",
              "    .colab-df-convert:hover {\n",
              "      background-color: #E2EBFA;\n",
              "      box-shadow: 0px 1px 2px rgba(60, 64, 67, 0.3), 0px 1px 3px 1px rgba(60, 64, 67, 0.15);\n",
              "      fill: #174EA6;\n",
              "    }\n",
              "\n",
              "    .colab-df-buttons div {\n",
              "      margin-bottom: 4px;\n",
              "    }\n",
              "\n",
              "    [theme=dark] .colab-df-convert {\n",
              "      background-color: #3B4455;\n",
              "      fill: #D2E3FC;\n",
              "    }\n",
              "\n",
              "    [theme=dark] .colab-df-convert:hover {\n",
              "      background-color: #434B5C;\n",
              "      box-shadow: 0px 1px 3px 1px rgba(0, 0, 0, 0.15);\n",
              "      filter: drop-shadow(0px 1px 2px rgba(0, 0, 0, 0.3));\n",
              "      fill: #FFFFFF;\n",
              "    }\n",
              "  </style>\n",
              "\n",
              "    <script>\n",
              "      const buttonEl =\n",
              "        document.querySelector('#df-1580c565-6f00-452a-9ee5-2699292e7be6 button.colab-df-convert');\n",
              "      buttonEl.style.display =\n",
              "        google.colab.kernel.accessAllowed ? 'block' : 'none';\n",
              "\n",
              "      async function convertToInteractive(key) {\n",
              "        const element = document.querySelector('#df-1580c565-6f00-452a-9ee5-2699292e7be6');\n",
              "        const dataTable =\n",
              "          await google.colab.kernel.invokeFunction('convertToInteractive',\n",
              "                                                    [key], {});\n",
              "        if (!dataTable) return;\n",
              "\n",
              "        const docLinkHtml = 'Like what you see? Visit the ' +\n",
              "          '<a target=\"_blank\" href=https://colab.research.google.com/notebooks/data_table.ipynb>data table notebook</a>'\n",
              "          + ' to learn more about interactive tables.';\n",
              "        element.innerHTML = '';\n",
              "        dataTable['output_type'] = 'display_data';\n",
              "        await google.colab.output.renderOutput(dataTable, element);\n",
              "        const docLink = document.createElement('div');\n",
              "        docLink.innerHTML = docLinkHtml;\n",
              "        element.appendChild(docLink);\n",
              "      }\n",
              "    </script>\n",
              "  </div>\n",
              "\n",
              "\n",
              "<div id=\"df-821a4e38-2f01-4935-a645-efc8d30a189e\">\n",
              "  <button class=\"colab-df-quickchart\" onclick=\"quickchart('df-821a4e38-2f01-4935-a645-efc8d30a189e')\"\n",
              "            title=\"Suggest charts\"\n",
              "            style=\"display:none;\">\n",
              "\n",
              "<svg xmlns=\"http://www.w3.org/2000/svg\" height=\"24px\"viewBox=\"0 0 24 24\"\n",
              "     width=\"24px\">\n",
              "    <g>\n",
              "        <path d=\"M19 3H5c-1.1 0-2 .9-2 2v14c0 1.1.9 2 2 2h14c1.1 0 2-.9 2-2V5c0-1.1-.9-2-2-2zM9 17H7v-7h2v7zm4 0h-2V7h2v10zm4 0h-2v-4h2v4z\"/>\n",
              "    </g>\n",
              "</svg>\n",
              "  </button>\n",
              "\n",
              "<style>\n",
              "  .colab-df-quickchart {\n",
              "      --bg-color: #E8F0FE;\n",
              "      --fill-color: #1967D2;\n",
              "      --hover-bg-color: #E2EBFA;\n",
              "      --hover-fill-color: #174EA6;\n",
              "      --disabled-fill-color: #AAA;\n",
              "      --disabled-bg-color: #DDD;\n",
              "  }\n",
              "\n",
              "  [theme=dark] .colab-df-quickchart {\n",
              "      --bg-color: #3B4455;\n",
              "      --fill-color: #D2E3FC;\n",
              "      --hover-bg-color: #434B5C;\n",
              "      --hover-fill-color: #FFFFFF;\n",
              "      --disabled-bg-color: #3B4455;\n",
              "      --disabled-fill-color: #666;\n",
              "  }\n",
              "\n",
              "  .colab-df-quickchart {\n",
              "    background-color: var(--bg-color);\n",
              "    border: none;\n",
              "    border-radius: 50%;\n",
              "    cursor: pointer;\n",
              "    display: none;\n",
              "    fill: var(--fill-color);\n",
              "    height: 32px;\n",
              "    padding: 0;\n",
              "    width: 32px;\n",
              "  }\n",
              "\n",
              "  .colab-df-quickchart:hover {\n",
              "    background-color: var(--hover-bg-color);\n",
              "    box-shadow: 0 1px 2px rgba(60, 64, 67, 0.3), 0 1px 3px 1px rgba(60, 64, 67, 0.15);\n",
              "    fill: var(--button-hover-fill-color);\n",
              "  }\n",
              "\n",
              "  .colab-df-quickchart-complete:disabled,\n",
              "  .colab-df-quickchart-complete:disabled:hover {\n",
              "    background-color: var(--disabled-bg-color);\n",
              "    fill: var(--disabled-fill-color);\n",
              "    box-shadow: none;\n",
              "  }\n",
              "\n",
              "  .colab-df-spinner {\n",
              "    border: 2px solid var(--fill-color);\n",
              "    border-color: transparent;\n",
              "    border-bottom-color: var(--fill-color);\n",
              "    animation:\n",
              "      spin 1s steps(1) infinite;\n",
              "  }\n",
              "\n",
              "  @keyframes spin {\n",
              "    0% {\n",
              "      border-color: transparent;\n",
              "      border-bottom-color: var(--fill-color);\n",
              "      border-left-color: var(--fill-color);\n",
              "    }\n",
              "    20% {\n",
              "      border-color: transparent;\n",
              "      border-left-color: var(--fill-color);\n",
              "      border-top-color: var(--fill-color);\n",
              "    }\n",
              "    30% {\n",
              "      border-color: transparent;\n",
              "      border-left-color: var(--fill-color);\n",
              "      border-top-color: var(--fill-color);\n",
              "      border-right-color: var(--fill-color);\n",
              "    }\n",
              "    40% {\n",
              "      border-color: transparent;\n",
              "      border-right-color: var(--fill-color);\n",
              "      border-top-color: var(--fill-color);\n",
              "    }\n",
              "    60% {\n",
              "      border-color: transparent;\n",
              "      border-right-color: var(--fill-color);\n",
              "    }\n",
              "    80% {\n",
              "      border-color: transparent;\n",
              "      border-right-color: var(--fill-color);\n",
              "      border-bottom-color: var(--fill-color);\n",
              "    }\n",
              "    90% {\n",
              "      border-color: transparent;\n",
              "      border-bottom-color: var(--fill-color);\n",
              "    }\n",
              "  }\n",
              "</style>\n",
              "\n",
              "  <script>\n",
              "    async function quickchart(key) {\n",
              "      const quickchartButtonEl =\n",
              "        document.querySelector('#' + key + ' button');\n",
              "      quickchartButtonEl.disabled = true;  // To prevent multiple clicks.\n",
              "      quickchartButtonEl.classList.add('colab-df-spinner');\n",
              "      try {\n",
              "        const charts = await google.colab.kernel.invokeFunction(\n",
              "            'suggestCharts', [key], {});\n",
              "      } catch (error) {\n",
              "        console.error('Error during call to suggestCharts:', error);\n",
              "      }\n",
              "      quickchartButtonEl.classList.remove('colab-df-spinner');\n",
              "      quickchartButtonEl.classList.add('colab-df-quickchart-complete');\n",
              "    }\n",
              "    (() => {\n",
              "      let quickchartButtonEl =\n",
              "        document.querySelector('#df-821a4e38-2f01-4935-a645-efc8d30a189e button');\n",
              "      quickchartButtonEl.style.display =\n",
              "        google.colab.kernel.accessAllowed ? 'block' : 'none';\n",
              "    })();\n",
              "  </script>\n",
              "</div>\n",
              "\n",
              "    </div>\n",
              "  </div>\n"
            ]
          },
          "metadata": {},
          "execution_count": 47
        }
      ]
    },
    {
      "cell_type": "markdown",
      "source": [
        "<font color=\"yellow\" size=\"4\">O IV aumentou de 0.81 para 0.92 e ficou claro a forte tendência de Churn em clientes com idade mais avançada. Nas faixas a partir de 58 anos, todos clientes deram Churn.</font>"
      ],
      "metadata": {
        "id": "dKnEy851kwFu"
      }
    },
    {
      "cell_type": "markdown",
      "source": [
        "##Escalonamento(Min-Max Scaling)"
      ],
      "metadata": {
        "id": "kAyHA2pdAM2y"
      }
    },
    {
      "cell_type": "code",
      "source": [
        "# Inicializar o scaler\n",
        "scaler = MinMaxScaler()\n",
        "# Treinar o scaler aos dados\n",
        "colunas = ['Score_Credito', 'Idade', 'Tempo_Cliente']\n",
        "scaler.fit(X[colunas])\n",
        "# Aplicar em ambas bases\n",
        "X[colunas] = scaler.transform(X[colunas])\n",
        "X_teste[colunas] = scaler.transform(X_teste[colunas])"
      ],
      "metadata": {
        "id": "LAKJCCX5AP0U"
      },
      "execution_count": 48,
      "outputs": []
    },
    {
      "cell_type": "markdown",
      "source": [
        "##Balanceamento(undersampler)"
      ],
      "metadata": {
        "id": "H9Pxv5W9_OEt"
      }
    },
    {
      "cell_type": "code",
      "source": [
        "undersampler = RandomUnderSampler(sampling_strategy='auto', random_state=42)\n",
        "X, y = undersampler.fit_resample(X, y)"
      ],
      "metadata": {
        "id": "DIiPj6X18aPl"
      },
      "execution_count": 50,
      "outputs": []
    },
    {
      "cell_type": "markdown",
      "source": [
        "#Modelagem"
      ],
      "metadata": {
        "id": "QH_B0QqtPEFj"
      }
    },
    {
      "cell_type": "markdown",
      "source": [
        "##Treinando o modelo"
      ],
      "metadata": {
        "id": "ok5jaYxMI4f6"
      }
    },
    {
      "cell_type": "code",
      "source": [
        "# Instanciando e configurando o modelo de regressão logística\n",
        "modelo_regressao = LogisticRegression(random_state=42)\n",
        "\n",
        "# Treinando o modelo\n",
        "modelo_regressao.fit(X, y)"
      ],
      "metadata": {
        "id": "veYE7Kc2PFWs",
        "colab": {
          "base_uri": "https://localhost:8080/",
          "height": 74
        },
        "outputId": "eb3c193d-6866-4dd0-c3d7-24c486df0352"
      },
      "execution_count": 51,
      "outputs": [
        {
          "output_type": "execute_result",
          "data": {
            "text/plain": [
              "LogisticRegression(random_state=42)"
            ],
            "text/html": [
              "<style>#sk-container-id-1 {color: black;background-color: white;}#sk-container-id-1 pre{padding: 0;}#sk-container-id-1 div.sk-toggleable {background-color: white;}#sk-container-id-1 label.sk-toggleable__label {cursor: pointer;display: block;width: 100%;margin-bottom: 0;padding: 0.3em;box-sizing: border-box;text-align: center;}#sk-container-id-1 label.sk-toggleable__label-arrow:before {content: \"▸\";float: left;margin-right: 0.25em;color: #696969;}#sk-container-id-1 label.sk-toggleable__label-arrow:hover:before {color: black;}#sk-container-id-1 div.sk-estimator:hover label.sk-toggleable__label-arrow:before {color: black;}#sk-container-id-1 div.sk-toggleable__content {max-height: 0;max-width: 0;overflow: hidden;text-align: left;background-color: #f0f8ff;}#sk-container-id-1 div.sk-toggleable__content pre {margin: 0.2em;color: black;border-radius: 0.25em;background-color: #f0f8ff;}#sk-container-id-1 input.sk-toggleable__control:checked~div.sk-toggleable__content {max-height: 200px;max-width: 100%;overflow: auto;}#sk-container-id-1 input.sk-toggleable__control:checked~label.sk-toggleable__label-arrow:before {content: \"▾\";}#sk-container-id-1 div.sk-estimator input.sk-toggleable__control:checked~label.sk-toggleable__label {background-color: #d4ebff;}#sk-container-id-1 div.sk-label input.sk-toggleable__control:checked~label.sk-toggleable__label {background-color: #d4ebff;}#sk-container-id-1 input.sk-hidden--visually {border: 0;clip: rect(1px 1px 1px 1px);clip: rect(1px, 1px, 1px, 1px);height: 1px;margin: -1px;overflow: hidden;padding: 0;position: absolute;width: 1px;}#sk-container-id-1 div.sk-estimator {font-family: monospace;background-color: #f0f8ff;border: 1px dotted black;border-radius: 0.25em;box-sizing: border-box;margin-bottom: 0.5em;}#sk-container-id-1 div.sk-estimator:hover {background-color: #d4ebff;}#sk-container-id-1 div.sk-parallel-item::after {content: \"\";width: 100%;border-bottom: 1px solid gray;flex-grow: 1;}#sk-container-id-1 div.sk-label:hover label.sk-toggleable__label {background-color: #d4ebff;}#sk-container-id-1 div.sk-serial::before {content: \"\";position: absolute;border-left: 1px solid gray;box-sizing: border-box;top: 0;bottom: 0;left: 50%;z-index: 0;}#sk-container-id-1 div.sk-serial {display: flex;flex-direction: column;align-items: center;background-color: white;padding-right: 0.2em;padding-left: 0.2em;position: relative;}#sk-container-id-1 div.sk-item {position: relative;z-index: 1;}#sk-container-id-1 div.sk-parallel {display: flex;align-items: stretch;justify-content: center;background-color: white;position: relative;}#sk-container-id-1 div.sk-item::before, #sk-container-id-1 div.sk-parallel-item::before {content: \"\";position: absolute;border-left: 1px solid gray;box-sizing: border-box;top: 0;bottom: 0;left: 50%;z-index: -1;}#sk-container-id-1 div.sk-parallel-item {display: flex;flex-direction: column;z-index: 1;position: relative;background-color: white;}#sk-container-id-1 div.sk-parallel-item:first-child::after {align-self: flex-end;width: 50%;}#sk-container-id-1 div.sk-parallel-item:last-child::after {align-self: flex-start;width: 50%;}#sk-container-id-1 div.sk-parallel-item:only-child::after {width: 0;}#sk-container-id-1 div.sk-dashed-wrapped {border: 1px dashed gray;margin: 0 0.4em 0.5em 0.4em;box-sizing: border-box;padding-bottom: 0.4em;background-color: white;}#sk-container-id-1 div.sk-label label {font-family: monospace;font-weight: bold;display: inline-block;line-height: 1.2em;}#sk-container-id-1 div.sk-label-container {text-align: center;}#sk-container-id-1 div.sk-container {/* jupyter's `normalize.less` sets `[hidden] { display: none; }` but bootstrap.min.css set `[hidden] { display: none !important; }` so we also need the `!important` here to be able to override the default hidden behavior on the sphinx rendered scikit-learn.org. See: https://github.com/scikit-learn/scikit-learn/issues/21755 */display: inline-block !important;position: relative;}#sk-container-id-1 div.sk-text-repr-fallback {display: none;}</style><div id=\"sk-container-id-1\" class=\"sk-top-container\"><div class=\"sk-text-repr-fallback\"><pre>LogisticRegression(random_state=42)</pre><b>In a Jupyter environment, please rerun this cell to show the HTML representation or trust the notebook. <br />On GitHub, the HTML representation is unable to render, please try loading this page with nbviewer.org.</b></div><div class=\"sk-container\" hidden><div class=\"sk-item\"><div class=\"sk-estimator sk-toggleable\"><input class=\"sk-toggleable__control sk-hidden--visually\" id=\"sk-estimator-id-1\" type=\"checkbox\" checked><label for=\"sk-estimator-id-1\" class=\"sk-toggleable__label sk-toggleable__label-arrow\">LogisticRegression</label><div class=\"sk-toggleable__content\"><pre>LogisticRegression(random_state=42)</pre></div></div></div></div></div>"
            ]
          },
          "metadata": {},
          "execution_count": 51
        }
      ]
    },
    {
      "cell_type": "code",
      "source": [
        "#Medindo a performance utilizando AUC\n",
        "\n",
        "#Obtendo as probabilidades\n",
        "y_proba = modelo_regressao.predict_proba(X)[:, 1]\n",
        "\n",
        "# Calcula a área abaixo da curva ROC\n",
        "auc = roc_auc_score(y, y_proba)\n",
        "\n",
        "print(f'AUC da regressão logística: {auc:.2f}')"
      ],
      "metadata": {
        "colab": {
          "base_uri": "https://localhost:8080/"
        },
        "id": "n6LM13A6SfJM",
        "outputId": "9e389b33-5447-475b-dc5c-cac7f95af58d"
      },
      "execution_count": 52,
      "outputs": [
        {
          "output_type": "stream",
          "name": "stdout",
          "text": [
            "AUC da regressão logística: 0.87\n"
          ]
        }
      ]
    },
    {
      "cell_type": "markdown",
      "source": [
        "<font color=\"yellow\">A métrica utilziada será o AUC, pois é a mais indicada quando trata-se de uma base desbalanceada.</font>"
      ],
      "metadata": {
        "id": "S7ONCpr3Cz7l"
      }
    },
    {
      "cell_type": "markdown",
      "source": [
        "##Validação"
      ],
      "metadata": {
        "id": "EjAjWm9iOBoW"
      }
    },
    {
      "cell_type": "code",
      "source": [
        "#Criando 5 dobras estratificadas\n",
        "stratified_kfold = StratifiedKFold(n_splits=5, shuffle=True, random_state=42)\n",
        "\n",
        "# Lista para armazenar os resultados\n",
        "treino_aucs = []\n",
        "validacao_aucs = []\n",
        "\n",
        "# Realizando a validação cruzada estratificada\n",
        "for treino_index, validacao_index in stratified_kfold.split(X, y):\n",
        "    X_treino, X_validacao = X.iloc[treino_index], X.iloc[validacao_index]\n",
        "    y_treino, y_validacao = y.iloc[treino_index], y.iloc[validacao_index]\n",
        "\n",
        "    modelo_regressao.fit(X_treino, y_treino)\n",
        "\n",
        "    y_train_pred = modelo_regressao.predict_proba(X_treino)[:, 1]\n",
        "    y_validacao_pred = modelo_regressao.predict_proba(X_validacao)[:, 1]\n",
        "\n",
        "    train_auc = roc_auc_score(y_treino, y_train_pred)\n",
        "    validation_auc = roc_auc_score(y_validacao, y_validacao_pred)\n",
        "\n",
        "    treino_aucs.append(train_auc)\n",
        "    validacao_aucs.append(validation_auc)\n",
        "\n",
        "#Calculando a média e desvio padrão\n",
        "mean_train_auc = np.mean(treino_aucs)\n",
        "mean_validation_auc = np.mean(validacao_aucs)\n",
        "std_train_auc = np.std(treino_aucs)\n",
        "std_validation_auc = np.std(validacao_aucs)\n",
        "\n",
        "# Exibindo os resultados\n",
        "for i, (treino_auc, validacao_auc) in enumerate(zip(treino_aucs, validacao_aucs), 1):\n",
        "    print(f\"Fold {i}: AUC (Treino) = {treino_auc:.4f}, AUC (Validação) = {validacao_auc:.4f}\")\n",
        "\n",
        "print(20*'-=')\n",
        "\n",
        "print(f'Média AUC Treino: {mean_train_auc:.4f}')\n",
        "print(f'Média AUC Validação: {mean_validation_auc:.4f}')\n",
        "print(f'Desvio AUC Treino: {std_train_auc:.4f}')\n",
        "print(f'Desvio AUC Validação: {std_validation_auc:.4f}')"
      ],
      "metadata": {
        "colab": {
          "base_uri": "https://localhost:8080/"
        },
        "id": "Cegb4WM8lXTv",
        "outputId": "07b84138-36a8-4a1a-8157-9d793baac95f"
      },
      "execution_count": 53,
      "outputs": [
        {
          "output_type": "stream",
          "name": "stdout",
          "text": [
            "Fold 1: AUC (Treino) = 0.8650, AUC (Validação) = 0.9036\n",
            "Fold 2: AUC (Treino) = 0.8782, AUC (Validação) = 0.8500\n",
            "Fold 3: AUC (Treino) = 0.8712, AUC (Validação) = 0.8790\n",
            "Fold 4: AUC (Treino) = 0.8741, AUC (Validação) = 0.8678\n",
            "Fold 5: AUC (Treino) = 0.8767, AUC (Validação) = 0.8585\n",
            "-=-=-=-=-=-=-=-=-=-=-=-=-=-=-=-=-=-=-=-=\n",
            "Média AUC Treino: 0.8731\n",
            "Média AUC Validação: 0.8718\n",
            "Desvio AUC Treino: 0.0047\n",
            "Desvio AUC Validação: 0.0186\n"
          ]
        }
      ]
    },
    {
      "cell_type": "markdown",
      "source": [
        "<font color=\"yellow\">Modelo consistente tanto na média quanto no desvio padrão dos AUC.</font>"
      ],
      "metadata": {
        "id": "n9EqG-YFeXcP"
      }
    },
    {
      "cell_type": "code",
      "source": [
        "# Instanciando e treinando o modelo final\n",
        "modelo_final = LogisticRegression(random_state=42)\n",
        "modelo_final.fit(X, y)"
      ],
      "metadata": {
        "colab": {
          "base_uri": "https://localhost:8080/",
          "height": 74
        },
        "id": "gChrB2KfwZGC",
        "outputId": "6dea57eb-6a6a-4e36-ef8f-3d55a82af6ab"
      },
      "execution_count": 54,
      "outputs": [
        {
          "output_type": "execute_result",
          "data": {
            "text/plain": [
              "LogisticRegression(random_state=42)"
            ],
            "text/html": [
              "<style>#sk-container-id-2 {color: black;background-color: white;}#sk-container-id-2 pre{padding: 0;}#sk-container-id-2 div.sk-toggleable {background-color: white;}#sk-container-id-2 label.sk-toggleable__label {cursor: pointer;display: block;width: 100%;margin-bottom: 0;padding: 0.3em;box-sizing: border-box;text-align: center;}#sk-container-id-2 label.sk-toggleable__label-arrow:before {content: \"▸\";float: left;margin-right: 0.25em;color: #696969;}#sk-container-id-2 label.sk-toggleable__label-arrow:hover:before {color: black;}#sk-container-id-2 div.sk-estimator:hover label.sk-toggleable__label-arrow:before {color: black;}#sk-container-id-2 div.sk-toggleable__content {max-height: 0;max-width: 0;overflow: hidden;text-align: left;background-color: #f0f8ff;}#sk-container-id-2 div.sk-toggleable__content pre {margin: 0.2em;color: black;border-radius: 0.25em;background-color: #f0f8ff;}#sk-container-id-2 input.sk-toggleable__control:checked~div.sk-toggleable__content {max-height: 200px;max-width: 100%;overflow: auto;}#sk-container-id-2 input.sk-toggleable__control:checked~label.sk-toggleable__label-arrow:before {content: \"▾\";}#sk-container-id-2 div.sk-estimator input.sk-toggleable__control:checked~label.sk-toggleable__label {background-color: #d4ebff;}#sk-container-id-2 div.sk-label input.sk-toggleable__control:checked~label.sk-toggleable__label {background-color: #d4ebff;}#sk-container-id-2 input.sk-hidden--visually {border: 0;clip: rect(1px 1px 1px 1px);clip: rect(1px, 1px, 1px, 1px);height: 1px;margin: -1px;overflow: hidden;padding: 0;position: absolute;width: 1px;}#sk-container-id-2 div.sk-estimator {font-family: monospace;background-color: #f0f8ff;border: 1px dotted black;border-radius: 0.25em;box-sizing: border-box;margin-bottom: 0.5em;}#sk-container-id-2 div.sk-estimator:hover {background-color: #d4ebff;}#sk-container-id-2 div.sk-parallel-item::after {content: \"\";width: 100%;border-bottom: 1px solid gray;flex-grow: 1;}#sk-container-id-2 div.sk-label:hover label.sk-toggleable__label {background-color: #d4ebff;}#sk-container-id-2 div.sk-serial::before {content: \"\";position: absolute;border-left: 1px solid gray;box-sizing: border-box;top: 0;bottom: 0;left: 50%;z-index: 0;}#sk-container-id-2 div.sk-serial {display: flex;flex-direction: column;align-items: center;background-color: white;padding-right: 0.2em;padding-left: 0.2em;position: relative;}#sk-container-id-2 div.sk-item {position: relative;z-index: 1;}#sk-container-id-2 div.sk-parallel {display: flex;align-items: stretch;justify-content: center;background-color: white;position: relative;}#sk-container-id-2 div.sk-item::before, #sk-container-id-2 div.sk-parallel-item::before {content: \"\";position: absolute;border-left: 1px solid gray;box-sizing: border-box;top: 0;bottom: 0;left: 50%;z-index: -1;}#sk-container-id-2 div.sk-parallel-item {display: flex;flex-direction: column;z-index: 1;position: relative;background-color: white;}#sk-container-id-2 div.sk-parallel-item:first-child::after {align-self: flex-end;width: 50%;}#sk-container-id-2 div.sk-parallel-item:last-child::after {align-self: flex-start;width: 50%;}#sk-container-id-2 div.sk-parallel-item:only-child::after {width: 0;}#sk-container-id-2 div.sk-dashed-wrapped {border: 1px dashed gray;margin: 0 0.4em 0.5em 0.4em;box-sizing: border-box;padding-bottom: 0.4em;background-color: white;}#sk-container-id-2 div.sk-label label {font-family: monospace;font-weight: bold;display: inline-block;line-height: 1.2em;}#sk-container-id-2 div.sk-label-container {text-align: center;}#sk-container-id-2 div.sk-container {/* jupyter's `normalize.less` sets `[hidden] { display: none; }` but bootstrap.min.css set `[hidden] { display: none !important; }` so we also need the `!important` here to be able to override the default hidden behavior on the sphinx rendered scikit-learn.org. See: https://github.com/scikit-learn/scikit-learn/issues/21755 */display: inline-block !important;position: relative;}#sk-container-id-2 div.sk-text-repr-fallback {display: none;}</style><div id=\"sk-container-id-2\" class=\"sk-top-container\"><div class=\"sk-text-repr-fallback\"><pre>LogisticRegression(random_state=42)</pre><b>In a Jupyter environment, please rerun this cell to show the HTML representation or trust the notebook. <br />On GitHub, the HTML representation is unable to render, please try loading this page with nbviewer.org.</b></div><div class=\"sk-container\" hidden><div class=\"sk-item\"><div class=\"sk-estimator sk-toggleable\"><input class=\"sk-toggleable__control sk-hidden--visually\" id=\"sk-estimator-id-2\" type=\"checkbox\" checked><label for=\"sk-estimator-id-2\" class=\"sk-toggleable__label sk-toggleable__label-arrow\">LogisticRegression</label><div class=\"sk-toggleable__content\"><pre>LogisticRegression(random_state=42)</pre></div></div></div></div></div>"
            ]
          },
          "metadata": {},
          "execution_count": 54
        }
      ]
    },
    {
      "cell_type": "code",
      "source": [
        "#Testando na base de teste\n",
        "prob_teste = modelo_final.predict_proba(X_teste)[:,1]\n",
        "roc_teste = roc_auc_score(y_teste, prob_teste)\n",
        "print(f'AUC na base Teste: {roc_teste}')"
      ],
      "metadata": {
        "colab": {
          "base_uri": "https://localhost:8080/"
        },
        "id": "m96fdYYVwt9P",
        "outputId": "78075c93-a2b3-46bf-cfb8-6ecc173ea6fd"
      },
      "execution_count": 55,
      "outputs": [
        {
          "output_type": "stream",
          "name": "stdout",
          "text": [
            "AUC na base Teste: 0.8150788013134472\n"
          ]
        }
      ]
    },
    {
      "cell_type": "markdown",
      "source": [
        "<font color=\"yellow\">AUC final ficou em 0.81,5</font>"
      ],
      "metadata": {
        "id": "t0GMixna5MY3"
      }
    },
    {
      "cell_type": "markdown",
      "source": [
        "#Medindo o impacto financeiro"
      ],
      "metadata": {
        "id": "9eCn9Uls-Z0P"
      }
    },
    {
      "cell_type": "code",
      "source": [
        "#Definindo as variáveis para o cálculo financeiro(vide premissas)\n",
        "ltv = 419\n",
        "cac = 150\n",
        "cupom = 100"
      ],
      "metadata": {
        "id": "xAvf5IlePoj5"
      },
      "execution_count": 56,
      "outputs": []
    },
    {
      "cell_type": "code",
      "source": [
        "# Criando a função para calcular o lucro\n",
        "def calcular_lucro(y_test, y_probs, threshold):\n",
        "    y_pred = np.where(y_probs >= threshold, 1, 0)\n",
        "    cm = confusion_matrix(y_test, y_pred)\n",
        "\n",
        "    vn = cm[0,0] * (ltv - cac)\n",
        "    fn = cm[1,0] * cac\n",
        "    vp = cm[1,1] * (ltv-cac-cupom)\n",
        "    fp = cm[0,1] * (ltv-cac-cupom)\n",
        "\n",
        "    lucro_total = vn + vp + fp - fn\n",
        "\n",
        "    return lucro_total"
      ],
      "metadata": {
        "id": "UL7BasWPP2CX"
      },
      "execution_count": 57,
      "outputs": []
    },
    {
      "cell_type": "code",
      "source": [
        "# Criando a função para encontrar o threshold ótimo\n",
        "def encontrar_threshold_otimo(modelo, X_test, y_test):\n",
        "    y_probs = modelo.predict_proba(X_test)[:, 1]\n",
        "\n",
        "    thresholds = np.linspace(0, 1, 1000)\n",
        "    lucros = []\n",
        "\n",
        "    for threshold in thresholds:\n",
        "        lucro = calcular_lucro(y_test, y_probs, threshold)\n",
        "        lucros.append(lucro)\n",
        "\n",
        "    threshold_otimo = thresholds[np.argmax(lucros)]\n",
        "\n",
        "    return threshold_otimo"
      ],
      "metadata": {
        "id": "B3k4UQ3UQHnw"
      },
      "execution_count": 58,
      "outputs": []
    },
    {
      "cell_type": "markdown",
      "source": [
        "<font color=\"yellow\">A intenção da função acima é otimizar o tempo, de forma que encontre automaticamente o threshold ótimo, que faça o modelo trabalhar para trazer o maior retorno financeiro.</font>"
      ],
      "metadata": {
        "id": "2t_FHpG2QS5E"
      }
    },
    {
      "cell_type": "code",
      "source": [
        "#Plotando a matriz de confusão considerando que ninguém dará churn(cenário atual), ou seja, não há modelo\n",
        "y_predito_prob = modelo_final.predict_proba(X_teste)[:, 1]\n",
        "y_predito = np.where(y_predito_prob >= 1.0, 1, 0)\n",
        "\n",
        "# Calculando a matriz de confusão\n",
        "cm = confusion_matrix(y_teste, y_predito)\n",
        "\n",
        "#Plotando\n",
        "plt.figure(figsize=(5, 3))\n",
        "sns.heatmap(cm, annot=True, fmt='d', cmap='Blues')\n",
        "plt.xlabel('Predito')\n",
        "plt.ylabel('Real')\n",
        "plt.title('Matriz de Confusão sem uso do modelo - R$553.924,00')\n",
        "plt.show()"
      ],
      "metadata": {
        "colab": {
          "base_uri": "https://localhost:8080/",
          "height": 333
        },
        "id": "Mq65c2xIS48Z",
        "outputId": "bc48e6f1-7435-47f3-be36-26d8a29db2ac"
      },
      "execution_count": 71,
      "outputs": [
        {
          "output_type": "display_data",
          "data": {
            "text/plain": [
              "<Figure size 500x300 with 2 Axes>"
            ],
            "image/png": "[encoded data removed]"
          },
          "metadata": {}
        }
      ]
    },
    {
      "cell_type": "code",
      "source": [
        "#Calculando o resultado financeiro atual, sem o uso do modelo\n",
        "receita_sem_modelo = calcular_lucro(y_teste, modelo_final.predict_proba(X_teste)[:, 1],1.0) #por o threshold em 100% equivale a não ter modelo\n",
        "receita_sem_modelo"
      ],
      "metadata": {
        "id": "Xf3iAizwR-A3",
        "colab": {
          "base_uri": "https://localhost:8080/"
        },
        "outputId": "6c638e2d-2bdd-4815-81e4-88f0545d4172"
      },
      "execution_count": 60,
      "outputs": [
        {
          "output_type": "execute_result",
          "data": {
            "text/plain": [
              "553924"
            ]
          },
          "metadata": {},
          "execution_count": 60
        }
      ]
    },
    {
      "cell_type": "markdown",
      "source": [
        "<font color=\"yellow\">O resultado da empresa no período de 4 meses, sem o uso do modelo e sem o uso de qualquer regra, considerando 3000 clientes, foi de 553924 reais.</font>"
      ],
      "metadata": {
        "id": "mI7Iu2PYSS8J"
      }
    },
    {
      "cell_type": "code",
      "source": [
        "#Calculando a matriz de confusão utilizando os insights da análise exploratória\n",
        "#clientes com idade superior a 58 anos e 4 categorias compradas\n",
        "y_predito = [1 if categoria >= 4 or idade >= 58 else 0 for categoria, idade in zip(df_teste['Qte_Categorias'], df_teste['Idade'])]\n",
        "\n",
        "# Calculando a matriz de confusão\n",
        "cm = confusion_matrix(y_teste, y_predito)\n",
        "\n",
        "#Plotando\n",
        "plt.figure(figsize=(5, 3))\n",
        "sns.heatmap(cm, annot=True, fmt='d', cmap='Blues')\n",
        "plt.xlabel('Predito')\n",
        "plt.ylabel('Real')\n",
        "plt.title('Matriz de Confusão insights análise - R$562.754,00')\n",
        "plt.show()"
      ],
      "metadata": {
        "colab": {
          "base_uri": "https://localhost:8080/",
          "height": 334
        },
        "id": "M211RxBvhwuX",
        "outputId": "cce2372c-6e06-4690-ee47-1f115fd8f026"
      },
      "execution_count": 80,
      "outputs": [
        {
          "output_type": "display_data",
          "data": {
            "text/plain": [
              "<Figure size 500x300 with 2 Axes>"
            ],
            "image/png": "[encoded data removed]"
          },
          "metadata": {}
        }
      ]
    },
    {
      "cell_type": "code",
      "source": [
        "#Calculando o resultado financeiro utilizando somente a regra de idade e quantidade categorias\n",
        "vn = cm[0,0] * (ltv - cac)\n",
        "fn = cm[1,0] * cac\n",
        "vp = cm[1,1] * (ltv-cac-cupom)\n",
        "fp = cm[0,1] * (ltv-cac-cupom)\n",
        "\n",
        "receita_analise = vn + vp + fp - fn\n",
        "receita_analise - receita_sem_modelo"
      ],
      "metadata": {
        "colab": {
          "base_uri": "https://localhost:8080/"
        },
        "id": "rcHDncgVjGQn",
        "outputId": "1b9adfd8-bd68-4b95-89be-3f1b7518b9b1"
      },
      "execution_count": 81,
      "outputs": [
        {
          "output_type": "execute_result",
          "data": {
            "text/plain": [
              "8830"
            ]
          },
          "metadata": {},
          "execution_count": 81
        }
      ]
    },
    {
      "cell_type": "markdown",
      "source": [
        "<font color=\"yellow\">Considerando as mesmas condições, se fossem criadas regras baseadas na análise exploratória, na qual foi constatada a alta probabilidade de churn entre clientes com mais idade e clientes que compraram em 4 categorias, o ganho seria de 8830 reais em comparação ao resultado financeiro atual.</font>"
      ],
      "metadata": {
        "id": "btLT8pAkjaf3"
      }
    },
    {
      "cell_type": "code",
      "source": [
        "# Calculando a matriz de confusão utilizando o modelo com threshold em 50%(padrão)\n",
        "cm = confusion_matrix(y_teste, modelo_final.predict(X_teste))\n",
        "\n",
        "#Plotando\n",
        "plt.figure(figsize=(5, 3))\n",
        "sns.heatmap(cm, annot=True, fmt='d', cmap='Blues')\n",
        "plt.xlabel('Predito')\n",
        "plt.ylabel('Real')\n",
        "plt.title('Matriz de Confusão com uso do modelo - R$635.812,00')\n",
        "plt.show()"
      ],
      "metadata": {
        "colab": {
          "base_uri": "https://localhost:8080/",
          "height": 333
        },
        "id": "DaLyZZva5yma",
        "outputId": "1a73507d-0264-40d5-a951-767b3b49543b"
      },
      "execution_count": 72,
      "outputs": [
        {
          "output_type": "display_data",
          "data": {
            "text/plain": [
              "<Figure size 500x300 with 2 Axes>"
            ],
            "image/png": "[encoded data removed]"
          },
          "metadata": {}
        }
      ]
    },
    {
      "cell_type": "code",
      "source": [
        "#Calculando o resultado financeiro que o modelo traria utilizando o threshold padrão(50%)\n",
        "receita_modelo_padrao = calcular_lucro(y_teste, modelo_final.predict_proba(X_teste)[:, 1],0.5)\n",
        "receita_modelo_padrao - receita_sem_modelo #diferença entre resultado com modelo e resultado sem modelo"
      ],
      "metadata": {
        "colab": {
          "base_uri": "https://localhost:8080/"
        },
        "id": "kAQohA8aRC9_",
        "outputId": "5a011cc9-0052-448b-f3c1-7d941d1eb707"
      },
      "execution_count": 73,
      "outputs": [
        {
          "output_type": "execute_result",
          "data": {
            "text/plain": [
              "81888"
            ]
          },
          "metadata": {},
          "execution_count": 73
        }
      ]
    },
    {
      "cell_type": "markdown",
      "source": [
        "<font color=\"yellow\">Considerando as mesmas condições, se o modelo estivesse em produção, utilizando o threshold padrão(50%), a empresa teria um ganho de 81888 reais em comparação ao resultado financeiro atual.</font>"
      ],
      "metadata": {
        "id": "p8VTpkUiRipf"
      }
    },
    {
      "cell_type": "code",
      "source": [
        "# Encontrando o threshold ótimo\n",
        "encontrar_threshold_otimo(modelo_final,X_teste,y_teste)"
      ],
      "metadata": {
        "colab": {
          "base_uri": "https://localhost:8080/"
        },
        "id": "zsVS37qPU1Uh",
        "outputId": "79d09861-7be3-46c3-e405-85c9c9d07520"
      },
      "execution_count": 65,
      "outputs": [
        {
          "output_type": "execute_result",
          "data": {
            "text/plain": [
              "0.5405405405405406"
            ]
          },
          "metadata": {},
          "execution_count": 65
        }
      ]
    },
    {
      "cell_type": "code",
      "source": [
        "# Calculando a matriz de confusão do modelo final com threshold ótimo(54%)\n",
        "y_predito_prob = modelo_final.predict_proba(X_teste)[:, 1]\n",
        "y_predito = np.where(y_predito_prob >= 0.54, 1, 0)\n",
        "\n",
        "# Calculando a matriz de confusão\n",
        "cm = confusion_matrix(y_teste, y_predito)\n",
        "\n",
        "#Plotando\n",
        "plt.figure(figsize=(5, 3))\n",
        "sns.heatmap(cm, annot=True, fmt='d', cmap='Blues')\n",
        "plt.xlabel('Predito')\n",
        "plt.ylabel('Real')\n",
        "plt.title('Matriz de Confusão com threshold ótimo - R$638.589,00')\n",
        "plt.show()"
      ],
      "metadata": {
        "colab": {
          "base_uri": "https://localhost:8080/",
          "height": 333
        },
        "id": "BzunOtsAWcL2",
        "outputId": "ba3f93c0-9ef9-4e02-96e6-9e4c6e648590"
      },
      "execution_count": 78,
      "outputs": [
        {
          "output_type": "display_data",
          "data": {
            "text/plain": [
              "<Figure size 500x300 with 2 Axes>"
            ],
            "image/png": "[encoded data removed]"
          },
          "metadata": {}
        }
      ]
    },
    {
      "cell_type": "code",
      "source": [
        "# Claculando o resultado financeiro que o modelo traria utilizando o threshold ótimo(54%)\n",
        "receita_modelo_otimo = calcular_lucro(y_teste, modelo_final.predict_proba(X_teste)[:, 1],0.54)\n",
        "receita_modelo_otimo - receita_sem_modelo #diferença entre resultado com modelo(threshold ótimo) e resultado sem modelo"
      ],
      "metadata": {
        "colab": {
          "base_uri": "https://localhost:8080/"
        },
        "id": "ErDyqKCKU9v_",
        "outputId": "b61d8b83-3609-465f-9276-262d4265c44f"
      },
      "execution_count": 77,
      "outputs": [
        {
          "output_type": "execute_result",
          "data": {
            "text/plain": [
              "638589"
            ]
          },
          "metadata": {},
          "execution_count": 77
        }
      ]
    },
    {
      "cell_type": "markdown",
      "source": [
        "<font color=\"yellow\">Considerando as mesmas condições, se o modelo estivesse em produção, utilizando o threshold Ótimo(54%), a empresa teria um ganho de 84665 reais em comparação ao resultado financeiro atual. Esse valor representa uma diferença positiva de 2777 reais em comparação ao modelo com threshold padrão. </font>"
      ],
      "metadata": {
        "id": "hWYZOhBBV7YS"
      }
    }
  ]
}